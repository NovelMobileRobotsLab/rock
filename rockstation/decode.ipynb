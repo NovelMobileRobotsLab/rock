{
 "cells": [
  {
   "cell_type": "code",
   "execution_count": 26,
   "metadata": {},
   "outputs": [
    {
     "data": {
      "text/plain": [
       "(24.71857452392578,\n",
       " 0.021311521530151367,\n",
       " 0.0057373046875,\n",
       " -1.9816313982009888,\n",
       " 0.24078369140625,\n",
       " -0.28448486328125,\n",
       " 0.6812744140625,\n",
       " -0.6300048828125,\n",
       " -0.28448486328125,\n",
       " 0.6812744140625,\n",
       " -0.6300048828125)"
      ]
     },
     "execution_count": 26,
     "metadata": {},
     "output_type": "execute_result"
    }
   ],
   "source": [
    "import base64, struct\n",
    "import numpy as np\n",
    "\n",
    "s = \"pL/FQYCVrjwAALw7Gab9vwCQdj4AqJG+AGguPwBIIb8AqJG+AGguPwBIIb8=\"\n",
    "raw = base64.b64decode(s)\n",
    "n = len(raw) // 4\n",
    "floats = struct.unpack(f'<{n}f', raw)  # little‐endian; use '>' if big‐endian\n",
    "floats\n",
    "# np.array(floats)"
   ]
  },
  {
   "cell_type": "code",
   "execution_count": 28,
   "metadata": {},
   "outputs": [
    {
     "data": {
      "text/plain": [
       "11"
      ]
     },
     "execution_count": 28,
     "metadata": {},
     "output_type": "execute_result"
    }
   ],
   "source": [
    "len(floats)"
   ]
  },
  {
   "cell_type": "code",
   "execution_count": 27,
   "metadata": {},
   "outputs": [
    {
     "data": {
      "text/plain": [
       "60"
      ]
     },
     "execution_count": 27,
     "metadata": {},
     "output_type": "execute_result"
    }
   ],
   "source": [
    "len(s)"
   ]
  },
  {
   "cell_type": "code",
   "execution_count": 35,
   "metadata": {},
   "outputs": [
    {
     "data": {
      "text/plain": [
       "{'battery_filt': 0.3619385967527301,\n",
       " 'mot_angle': 0.45749631537499635,\n",
       " 'mot_angvel': 0.8082807480983504,\n",
       " 'thetaM_motor': 0.018713436749135615,\n",
       " 'quat_imu[0]': 0.38342575951241187,\n",
       " 'quat_imu[1]': 0.4221861879780281,\n",
       " 'quat_imu[2]': 0.6297735692522624,\n",
       " 'quat_imu[3]': 0.8985572307691666,\n",
       " 'angvel_imu[0]': 0.6051507197619324,\n",
       " 'angvel_imu[1]': 0.8951599453051335,\n",
       " 'angvel_imu[2]': 0.5748641502341639,\n",
       " 'leftx': 0,\n",
       " 'lefty': 0,\n",
       " 'rightx': 0,\n",
       " 'righty': 0,\n",
       " 'lefttrigger': 0,\n",
       " 'righttrigger': 0,\n",
       " 'A': 0,\n",
       " 'B': 0,\n",
       " 'X': 0,\n",
       " 'Y': 0,\n",
       " '-': 0,\n",
       " 'home': 0,\n",
       " '+': 0,\n",
       " 'leftstickbutton': 0,\n",
       " 'rightstickbutton': 0,\n",
       " 'leftbumper': 0,\n",
       " 'rightbumper': 0,\n",
       " 'dpadup': 0,\n",
       " 'dpaddown': 0,\n",
       " 'dpadleft': 0,\n",
       " 'dpadright': 0,\n",
       " 'circle': 0}"
      ]
     },
     "execution_count": 35,
     "metadata": {},
     "output_type": "execute_result"
    }
   ],
   "source": [
    "joy_data = {\n",
    "    'leftx': 0,\n",
    "    'lefty': 0,\n",
    "    'rightx': 0,\n",
    "    'righty': 0,\n",
    "    'lefttrigger': 0,\n",
    "    'righttrigger': 0,\n",
    "    'A': 0,\n",
    "    'B': 0,\n",
    "    'X': 0,\n",
    "    'Y': 0,\n",
    "    '-': 0,\n",
    "    'home': 0,\n",
    "    '+': 0,\n",
    "    'leftstickbutton': 0,\n",
    "    'rightstickbutton': 0,\n",
    "    'leftbumper': 0,\n",
    "    'rightbumper': 0,\n",
    "    'dpadup': 0,\n",
    "    'dpaddown': 0,\n",
    "    'dpadleft': 0,\n",
    "    'dpadright': 0,\n",
    "    'circle': 0,\n",
    "}\n",
    "rock_telemetry_labels = [\n",
    "    'battery_filt',\n",
    "    'mot_angle',\n",
    "    'mot_angvel',\n",
    "    'thetaM_motor',\n",
    "    'quat_imu[0]',\n",
    "    'quat_imu[1]',\n",
    "    'quat_imu[2]',\n",
    "    'quat_imu[3]',\n",
    "    'angvel_imu[0]',\n",
    "    'angvel_imu[1]',\n",
    "    'angvel_imu[2]',\n",
    "]\n",
    "telemetry_dict = {}\n",
    "for key in rock_telemetry_labels:\n",
    "    telemetry_dict[key] = np.random.random()\n",
    "\n",
    "combined_dict = {**telemetry_dict, **joy_data}\n",
    "combined_dict\n"
   ]
  }
 ],
 "metadata": {
  "kernelspec": {
   "display_name": "Python 3",
   "language": "python",
   "name": "python3"
  },
  "language_info": {
   "codemirror_mode": {
    "name": "ipython",
    "version": 3
   },
   "file_extension": ".py",
   "mimetype": "text/x-python",
   "name": "python",
   "nbconvert_exporter": "python",
   "pygments_lexer": "ipython3",
   "version": "3.11.4"
  }
 },
 "nbformat": 4,
 "nbformat_minor": 2
}
