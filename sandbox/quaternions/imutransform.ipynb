{
 "cells": [
  {
   "cell_type": "code",
   "execution_count": 6,
   "metadata": {},
   "outputs": [
    {
     "name": "stdout",
     "output_type": "stream",
     "text": [
      "Transformed quaternion: [0.70708644 0.         0.         0.70708644]\n"
     ]
    }
   ],
   "source": [
    "import numpy as np\n",
    "\n",
    "def transform_quaternion(q1, q2):\n",
    "    \"\"\"\n",
    "    Transform quaternion q1 by q2, returning the result.\n",
    "    q1: sensor orientation [w, x, y, z]\n",
    "    q2: sensor-to-global transformation [w, x, y, z]\n",
    "    Returns: transformed quaternion [w, x, y, z]\n",
    "    \"\"\"\n",
    "    q1 = np.array(q1, dtype=float)\n",
    "    q2 = np.array(q2, dtype=float)\n",
    "    \n",
    "    # Quaternion multiplication: temp = q2 * q1\n",
    "    temp = np.zeros(4)\n",
    "    temp[0] = q2[0]*q1[0] - q2[1]*q1[1] - q2[2]*q1[2] - q2[3]*q1[3]  # w\n",
    "    temp[1] = q2[0]*q1[1] + q2[1]*q1[0] + q2[2]*q1[3] - q2[3]*q1[2]  # x\n",
    "    temp[2] = q2[0]*q1[2] - q2[1]*q1[3] + q2[2]*q1[0] + q2[3]*q1[1]  # y\n",
    "    temp[3] = q2[0]*q1[3] + q2[1]*q1[2] - q2[2]*q1[1] + q2[3]*q1[0]  # z\n",
    "    \n",
    "    # q2 inverse (conjugate for unit quaternion)\n",
    "    q2_inv = np.array([q2[0], -q2[1], -q2[2], -q2[3]])\n",
    "    \n",
    "    # Final multiplication: result = temp * q2_inv\n",
    "    result = np.zeros(4)    \n",
    "    result[0] = temp[0]*q2_inv[0] - temp[1]*q2_inv[1] - temp[2]*q2_inv[2] - temp[3]*q2_inv[3]  # w\n",
    "    result[1] = temp[0]*q2_inv[1] + temp[1]*q2_inv[0] + temp[2]*q2_inv[3] - temp[3]*q2_inv[2]  # x\n",
    "    result[2] = temp[0]*q2_inv[2] - temp[1]*q2_inv[3] + temp[2]*q2_inv[0] + temp[3]*q2_inv[1]  # y\n",
    "    result[3] = temp[0]*q2_inv[3] + temp[1]*q2_inv[2] - temp[2]*q2_inv[1] + temp[3]*q2_inv[0]  # z\n",
    "    \n",
    "    return result\n",
    "\n",
    "\n",
    "# Example quaternions (unit quaternions for simplicity)\n",
    "q1 = [0.7071, 0, 0.7071, 0]  # Identity quaternion\n",
    "q2 = [0.7071, 0.7071, 0.0, 0.0]  # 90-degree rotation around x-axis\n",
    "result = transform_quaternion(q1, q2)\n",
    "print(\"Transformed quaternion:\", result)"
   ]
  }
 ],
 "metadata": {
  "kernelspec": {
   "display_name": "Python 3",
   "language": "python",
   "name": "python3"
  },
  "language_info": {
   "codemirror_mode": {
    "name": "ipython",
    "version": 3
   },
   "file_extension": ".py",
   "mimetype": "text/x-python",
   "name": "python",
   "nbconvert_exporter": "python",
   "pygments_lexer": "ipython3",
   "version": "3.11.4"
  }
 },
 "nbformat": 4,
 "nbformat_minor": 2
}
