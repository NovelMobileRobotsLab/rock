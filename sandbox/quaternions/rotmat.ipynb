{
 "cells": [
  {
   "cell_type": "code",
   "execution_count": 3,
   "metadata": {},
   "outputs": [
    {
     "data": {
      "text/plain": [
       "array([[-0., -1.,  0.],\n",
       "       [-1.,  0.,  0.],\n",
       "       [-0.,  0., -1.]])"
      ]
     },
     "execution_count": 3,
     "metadata": {},
     "output_type": "execute_result"
    }
   ],
   "source": [
    "from scipy.spatial.transform import Rotation as R\n",
    "import numpy as np\n",
    "\n",
    "# Step 1: 180° about the base frame's Y-axis\n",
    "r1 = R.from_euler('y', 180, degrees=True)\n",
    "\n",
    "# Step 2: 90° about the *new* Z-axis (intrinsic rotation)\n",
    "r2 = R.from_euler('z', 90, degrees=True)\n",
    "\n",
    "# Compose the rotations (r2 after r1)\n",
    "r_total = r2 * r1  # Applies r1, then r2 in sequence\n",
    "\n",
    "# Get rotation matrix: IMU-to-base\n",
    "R_imu = r_total.as_matrix()  # shape: (3, 3)\n",
    "R_imu.round(3)"
   ]
  }
 ],
 "metadata": {
  "kernelspec": {
   "display_name": "Python 3",
   "language": "python",
   "name": "python3"
  },
  "language_info": {
   "codemirror_mode": {
    "name": "ipython",
    "version": 3
   },
   "file_extension": ".py",
   "mimetype": "text/x-python",
   "name": "python",
   "nbconvert_exporter": "python",
   "pygments_lexer": "ipython3",
   "version": "3.11.4"
  }
 },
 "nbformat": 4,
 "nbformat_minor": 2
}
