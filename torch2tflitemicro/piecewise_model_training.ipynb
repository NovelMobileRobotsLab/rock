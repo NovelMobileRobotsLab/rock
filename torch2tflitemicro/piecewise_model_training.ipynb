{
 "cells": [
  {
   "cell_type": "markdown",
   "metadata": {},
   "source": [
    "## 1. Imports and Setup"
   ]
  },
  {
   "cell_type": "code",
   "execution_count": 2,
   "metadata": {},
   "outputs": [
    {
     "name": "stdout",
     "output_type": "stream",
     "text": [
      "Using device: cpu\n"
     ]
    }
   ],
   "source": [
    "import torch\n",
    "import torch.nn as nn\n",
    "import torch.optim as optim\n",
    "import numpy as np\n",
    "import matplotlib.pyplot as plt\n",
    "\n",
    "# Device configuration\n",
    "DEVICE = torch.device('cuda:0' if torch.cuda.is_available() else 'cpu')\n",
    "print(f\"Using device: {DEVICE}\")"
   ]
  },
  {
   "cell_type": "markdown",
   "metadata": {},
   "source": [
    "## 2. Data Generation\n",
    "\n",
    "We'll generate synthetic data for training based on the function sin(x*y)."
   ]
  },
  {
   "cell_type": "code",
   "execution_count": 98,
   "metadata": {},
   "outputs": [
    {
     "data": {
      "text/plain": [
       "(torch.Size([1000, 42]), torch.Size([1000, 1]))"
      ]
     },
     "execution_count": 98,
     "metadata": {},
     "output_type": "execute_result"
    }
   ],
   "source": [
    "num_inputs = 7*2*3 #42\n",
    "weights = np.linspace(0.5, 0.1, num_inputs)   # Decreasing weights: 0.5, 0.4, ..., 0.1\n",
    "\n",
    "def func_to_approx(inputs):\n",
    "    return np.dot(inputs, weights) + np.sin(inputs[:, 0])\n",
    "\n",
    "def generate_data(num_samples=1000):\n",
    "    inputs = np.random.randn(num_samples, num_inputs)  # Random inputs\n",
    "    noise = 0.01 * np.random.randn(num_samples)\n",
    "    output = func_to_approx(inputs) + noise\n",
    "    inputs = torch.tensor(inputs, dtype=torch.float32)\n",
    "    output = torch.tensor(output, dtype=torch.float32).reshape(-1,1)\n",
    "\n",
    "    return inputs, output\n",
    "\n",
    "inputs, output =generate_data()\n",
    "inputs.shape, output.shape"
   ]
  },
  {
   "cell_type": "code",
   "execution_count": 23,
   "metadata": {},
   "outputs": [
    {
     "name": "stdout",
     "output_type": "stream",
     "text": [
      "Training samples: 10000\n",
      "Validation samples: 2000\n"
     ]
    }
   ],
   "source": [
    "\n",
    "BATCH_SIZE = 64\n",
    "\n",
    "# Create datasets\n",
    "train_inputs, train_targets = generate_data(num_samples=10000)\n",
    "val_inputs, val_targets = generate_data(num_samples=2000)\n",
    "\n",
    "# Create data loaders\n",
    "train_dataset = torch.utils.data.TensorDataset(train_inputs, train_targets)\n",
    "train_loader = torch.utils.data.DataLoader(train_dataset, batch_size=BATCH_SIZE, shuffle=True)\n",
    "\n",
    "val_dataset = torch.utils.data.TensorDataset(val_inputs, val_targets)\n",
    "val_loader = torch.utils.data.DataLoader(val_dataset, batch_size=BATCH_SIZE)\n",
    "\n",
    "print(f\"Training samples: {len(train_dataset)}\")\n",
    "print(f\"Validation samples: {len(val_dataset)}\")"
   ]
  },
  {
   "cell_type": "code",
   "execution_count": 24,
   "metadata": {},
   "outputs": [
    {
     "name": "stdout",
     "output_type": "stream",
     "text": [
      "torch.Size([64, 42])\n",
      "torch.Size([64, 1])\n"
     ]
    }
   ],
   "source": [
    "for inputs, targets in train_loader:\n",
    "    print(inputs.shape)\n",
    "    print(targets.shape)\n",
    "    break"
   ]
  },
  {
   "cell_type": "markdown",
   "metadata": {},
   "source": [
    "## 3. Model Definition\n",
    "\n",
    "We'll define a fully connected neural network with configurable input size, hidden layers, and output size."
   ]
  },
  {
   "cell_type": "code",
   "execution_count": 25,
   "metadata": {},
   "outputs": [
    {
     "name": "stdout",
     "output_type": "stream",
     "text": [
      "SinModel(\n",
      "  (model): Sequential(\n",
      "    (0): Linear(in_features=42, out_features=128, bias=True)\n",
      "    (1): ReLU()\n",
      "    (2): Linear(in_features=128, out_features=128, bias=True)\n",
      "    (3): ReLU()\n",
      "    (4): Linear(in_features=128, out_features=128, bias=True)\n",
      "    (5): ReLU()\n",
      "    (6): Linear(in_features=128, out_features=1, bias=True)\n",
      "  )\n",
      ")\n"
     ]
    }
   ],
   "source": [
    "# Model architecture parameters (adjustable)\n",
    "INPUT_SIZE = 42\n",
    "HIDDEN_LAYERS = [128, 128, 128]\n",
    "OUTPUT_SIZE = 1\n",
    "\n",
    "class SinModel(nn.Module):\n",
    "    def __init__(self, input_size=INPUT_SIZE, hidden_layers=HIDDEN_LAYERS, output_size=OUTPUT_SIZE):\n",
    "        super(SinModel, self).__init__()\n",
    "        \n",
    "        layers = []\n",
    "        prev_size = input_size\n",
    "        \n",
    "        # Add hidden layers\n",
    "        for hidden_size in hidden_layers:\n",
    "            layers.append(nn.Linear(prev_size, hidden_size))\n",
    "            layers.append(nn.ReLU())\n",
    "            prev_size = hidden_size\n",
    "        \n",
    "        # Add output layer\n",
    "        layers.append(nn.Linear(prev_size, output_size))\n",
    "        \n",
    "        self.model = nn.Sequential(*layers)\n",
    "    \n",
    "    def forward(self, x):\n",
    "        return self.model(x)\n",
    "\n",
    "# Initialize model\n",
    "model = SinModel().to(DEVICE)\n",
    "print(model)"
   ]
  },
  {
   "cell_type": "markdown",
   "metadata": {},
   "source": [
    "## 4. Training Loop"
   ]
  },
  {
   "cell_type": "code",
   "execution_count": 26,
   "metadata": {},
   "outputs": [
    {
     "name": "stdout",
     "output_type": "stream",
     "text": [
      "Epoch [50/200], Train Loss: 0.0022, Val Loss: 0.0128, Time: 5.17s\n",
      "Epoch [100/200], Train Loss: 0.0012, Val Loss: 0.0087, Time: 10.27s\n",
      "Epoch [150/200], Train Loss: 0.0008, Val Loss: 0.0095, Time: 15.33s\n",
      "Epoch [200/200], Train Loss: 0.0007, Val Loss: 0.0067, Time: 20.33s\n",
      "Training complete!\n"
     ]
    }
   ],
   "source": [
    "import time\n",
    "\n",
    "# Training parameters\n",
    "# LEARNING_RATE = 0.001\n",
    "LEARNING_RATE = 0.0005\n",
    "EPOCHS = 200 #1000\n",
    "\n",
    "criterion = nn.MSELoss()\n",
    "optimizer = optim.Adam(model.parameters(), lr=LEARNING_RATE)\n",
    "\n",
    "# Lists to store metrics\n",
    "train_losses = []\n",
    "val_losses = []\n",
    "\n",
    "start_time = time.time()\n",
    "\n",
    "# Training loop\n",
    "for epoch in range(EPOCHS):\n",
    "    # Training phase\n",
    "    model.train()\n",
    "    running_loss = 0.0\n",
    "    \n",
    "    for inputs, targets in train_loader:\n",
    "        inputs, targets = inputs.to(DEVICE), targets.to(DEVICE)\n",
    "        \n",
    "        # Forward pass\n",
    "        outputs = model(inputs)\n",
    "        loss = criterion(outputs, targets)\n",
    "        \n",
    "        # Backward and optimize\n",
    "        optimizer.zero_grad()\n",
    "        loss.backward()\n",
    "        optimizer.step()\n",
    "        \n",
    "        running_loss += loss.item()\n",
    "    \n",
    "    avg_train_loss = running_loss / len(train_loader)\n",
    "    train_losses.append(avg_train_loss)\n",
    "    \n",
    "    # Validation phase\n",
    "    model.eval()\n",
    "    val_loss = 0.0\n",
    "    \n",
    "    with torch.no_grad():\n",
    "        for inputs, targets in val_loader:\n",
    "            inputs, targets = inputs.to(DEVICE), targets.to(DEVICE)\n",
    "            outputs = model(inputs)\n",
    "            loss = criterion(outputs, targets)\n",
    "            val_loss += loss.item()\n",
    "    \n",
    "    avg_val_loss = val_loss / len(val_loader)\n",
    "    val_losses.append(avg_val_loss)\n",
    "    \n",
    "    # Print progress every 100 epochs\n",
    "    if (epoch + 1) % 50 == 0:\n",
    "        print(f'Epoch [{epoch+1}/{EPOCHS}], Train Loss: {avg_train_loss:.4f}, Val Loss: {avg_val_loss:.4f}, Time: {time.time() - start_time:.2f}s')\n",
    "\n",
    "print(\"Training complete!\")"
   ]
  },
  {
   "cell_type": "code",
   "execution_count": 27,
   "metadata": {},
   "outputs": [
    {
     "data": {
      "image/png": "[encoded data removed]",
      "text/plain": [
       "<Figure size 1000x500 with 1 Axes>"
      ]
     },
     "metadata": {},
     "output_type": "display_data"
    }
   ],
   "source": [
    "# Plot training history\n",
    "plt.figure(figsize=(10, 5))\n",
    "plt.plot(train_losses, label='Training Loss')\n",
    "plt.plot(val_losses, label='Validation Loss')\n",
    "plt.xlabel('Epochs')\n",
    "plt.ylabel('Loss')\n",
    "plt.title('Training and Validation Loss')\n",
    "plt.legend()\n",
    "plt.grid(True)\n",
    "plt.show()"
   ]
  },
  {
   "cell_type": "markdown",
   "metadata": {},
   "source": [
    "## 5. Model Evaluation"
   ]
  },
  {
   "cell_type": "code",
   "execution_count": null,
   "metadata": {},
   "outputs": [
    {
     "name": "stdout",
     "output_type": "stream",
     "text": [
      "Test MSE: 0.0067\n",
      "Percentage of errors below 10%: 82.58%\n",
      "Percentage of errors below 5%: 51.84%\n"
     ]
    }
   ],
   "source": [
    "num_test_points = 10000\n",
    "test_inputs, test_targets = generate_data(num_samples=num_test_points)\n",
    "\n",
    "# Make predictions\n",
    "model.eval()\n",
    "with torch.no_grad():\n",
    "    predictions = model(test_inputs.to(DEVICE)).cpu().numpy()\n",
    "\n",
    "# Calculate MSE and max error\n",
    "errors = predictions - test_targets.numpy()\n",
    "rms_error = np.mean(errors ** 2)\n",
    "max_error = np.max(errors)\n",
    "min_error = np.min(errors)\n",
    "print(f'Test MSE: {rms_error:.4f}')\n",
    "\n",
    "# get percentage of errors below 10%\n",
    "below_10_percent = np.sum(np.abs(errors) < 0.1) / num_test_points\n",
    "print(f'Percentage of errors below 10%: {below_10_percent:.2%}')\n",
    "\n",
    "# get percentage of errors below 5%\n",
    "below_5_percent = np.sum(np.abs(errors) < 0.05) / num_test_points\n",
    "print(f'Percentage of errors below 5%: {below_5_percent:.2%}')"
   ]
  },
  {
   "cell_type": "markdown",
   "metadata": {},
   "source": [
    "# Export"
   ]
  },
  {
   "cell_type": "code",
   "execution_count": 92,
   "metadata": {},
   "outputs": [
    {
     "name": "stderr",
     "output_type": "stream",
     "text": [
      "[Nobuco] Tracing (DONE): : 10ops [00:00, 416.56ops/s]\n",
      "[Nobuco] Converting (DONE): 100%|██████████| 7/7 [00:00<00:00, 159.38ops/s]"
     ]
    },
    {
     "name": "stdout",
     "output_type": "stream",
     "text": [
      "Legend:\n",
      "    \u001b[32mGreen\u001b[0m — conversion successful\n",
      "    \u001b[33mYellow\u001b[0m — conversion imprecise\n",
      "    \u001b[31mRed\u001b[0m — conversion failed\n",
      "    \u001b[31m\u001b[7mRed\u001b[0m — no converter found\n",
      "    \u001b[0m\u001b[1mBold\u001b[0m — conversion applied directly\n",
      "    * — subgraph reused\n",
      "    \u001b[7mTensor\u001b[0m — this output is not dependent on any of subgraph's input tensors\n",
      "    \u001b[4mTensor\u001b[0m — this input is a parameter / constant\n",
      "    \u001b[90mTensor\u001b[0m — this tensor is useless\n",
      "\n",
      "\u001b[32mSinModel[__main__]\u001b[0m(float32_0<1,42>\u001b[0m) -> float32_15<1,1>\u001b[0m\n",
      "\u001b[32m ├·\u001b[0m \u001b[32mSequential[torch.nn.modules.container]\u001b[0m(float32_0<1,42>\u001b[0m) -> float32_15<1,1>\u001b[0m\n",
      "\u001b[32m │ \u001b[0m \u001b[32m │ \u001b[0m \u001b[32m\u001b[1mLinear[torch.nn.modules.linear]\u001b[0m(float32_0<1,42>\u001b[0m) -> float32_3<1,128>\u001b[0m\n",
      "\u001b[32m │ \u001b[0m \u001b[32m │ \u001b[0m \u001b[32m\u001b[1m └·\u001b[0m \u001b[0mlinear[torch.nn.functional]\u001b[0m(float32_0<1,42>\u001b[0m, float32_1<128,42>\u001b[0m, float32_2<128>\u001b[0m) -> float32_3<1,128>\u001b[0m\n",
      "\u001b[32m │ \u001b[0m \u001b[32m │ \u001b[0m \u001b[32m\u001b[1mReLU[torch.nn.modules.activation]\u001b[0m(float32_3<1,128>\u001b[0m) -> float32_4<1,128>\u001b[0m\n",
      "\u001b[32m │ \u001b[0m \u001b[32m │ \u001b[0m \u001b[32m\u001b[1m ├·\u001b[0m \u001b[0mrelu[torch.nn.functional]\u001b[0m(float32_3<1,128>\u001b[0m, inplace=False) -> float32_4<1,128>\u001b[0m\n",
      "\u001b[32m │ \u001b[0m \u001b[32m │ \u001b[0m \u001b[32m\u001b[1m └ \u001b[0m \u001b[0m └·\u001b[0m \u001b[0mrelu[torch]\u001b[0m(float32_3<1,128>\u001b[0m) -> float32_4<1,128>\u001b[0m\n",
      "\u001b[32m │ \u001b[0m \u001b[32m │ \u001b[0m \u001b[32m\u001b[1mLinear[torch.nn.modules.linear]\u001b[0m(float32_4<1,128>\u001b[0m) -> float32_7<1,128>\u001b[0m\n",
      "\u001b[32m │ \u001b[0m \u001b[32m │ \u001b[0m \u001b[32m\u001b[1m └·\u001b[0m \u001b[0mlinear[torch.nn.functional]\u001b[0m(float32_4<1,128>\u001b[0m, float32_5<128,128>\u001b[0m, float32_6<128>\u001b[0m) -> float32_7<1,128>\u001b[0m\n",
      "\u001b[32m │ \u001b[0m \u001b[32m │ \u001b[0m \u001b[32m\u001b[1mReLU[torch.nn.modules.activation]\u001b[0m(float32_7<1,128>\u001b[0m) -> float32_8<1,128>\u001b[0m\n",
      "\u001b[32m │ \u001b[0m \u001b[32m │ \u001b[0m \u001b[32m\u001b[1m ├·\u001b[0m \u001b[0mrelu[torch.nn.functional]\u001b[0m(float32_7<1,128>\u001b[0m, inplace=False) -> float32_8<1,128>\u001b[0m\n",
      "\u001b[32m │ \u001b[0m \u001b[32m │ \u001b[0m \u001b[32m\u001b[1m └ \u001b[0m \u001b[0m └·\u001b[0m \u001b[0mrelu[torch]\u001b[0m(float32_7<1,128>\u001b[0m) -> float32_8<1,128>\u001b[0m\n",
      "\u001b[32m │ \u001b[0m \u001b[32m │ \u001b[0m \u001b[32m\u001b[1mLinear[torch.nn.modules.linear]\u001b[0m(float32_8<1,128>\u001b[0m) -> float32_11<1,128>\u001b[0m\n",
      "\u001b[32m │ \u001b[0m \u001b[32m │ \u001b[0m \u001b[32m\u001b[1m └·\u001b[0m \u001b[0mlinear[torch.nn.functional]\u001b[0m(float32_8<1,128>\u001b[0m, float32_9<128,128>\u001b[0m, float32_10<128>\u001b[0m) -> float32_11<1,128>\u001b[0m\n",
      "\u001b[32m │ \u001b[0m \u001b[32m │ \u001b[0m \u001b[32m\u001b[1mReLU[torch.nn.modules.activation]\u001b[0m(float32_11<1,128>\u001b[0m) -> float32_12<1,128>\u001b[0m\n",
      "\u001b[32m │ \u001b[0m \u001b[32m │ \u001b[0m \u001b[32m\u001b[1m ├·\u001b[0m \u001b[0mrelu[torch.nn.functional]\u001b[0m(float32_11<1,128>\u001b[0m, inplace=False) -> float32_12<1,128>\u001b[0m\n",
      "\u001b[32m │ \u001b[0m \u001b[32m │ \u001b[0m \u001b[32m\u001b[1m └ \u001b[0m \u001b[0m └·\u001b[0m \u001b[0mrelu[torch]\u001b[0m(float32_11<1,128>\u001b[0m) -> float32_12<1,128>\u001b[0m\n",
      "\u001b[32m │ \u001b[0m \u001b[32m ├·\u001b[0m \u001b[32m\u001b[1mLinear[torch.nn.modules.linear]\u001b[0m(float32_12<1,128>\u001b[0m) -> float32_15<1,1>\u001b[0m\n",
      "\u001b[32m └ \u001b[0m \u001b[32m └ \u001b[0m \u001b[32m\u001b[1m └·\u001b[0m \u001b[0mlinear[torch.nn.functional]\u001b[0m(float32_12<1,128>\u001b[0m, float32_13<1,128>\u001b[0m, float32_14<1>\u001b[0m) -> float32_15<1,1>\u001b[0m\n",
      "\n",
      "[Nobuco] Conversion complete. Elapsed time: 0.08 sec.\n",
      "WARNING:tensorflow:Compiled the loaded model, but the compiled metrics have yet to be built. `model.compile_metrics` will be empty until you train or evaluate the model.\n"
     ]
    },
    {
     "name": "stderr",
     "output_type": "stream",
     "text": [
      "\n"
     ]
    },
    {
     "name": "stdout",
     "output_type": "stream",
     "text": [
      "INFO:tensorflow:Assets written to: ./export/piecewise_model_128_keras/assets\n"
     ]
    },
    {
     "name": "stderr",
     "output_type": "stream",
     "text": [
      "INFO:tensorflow:Assets written to: ./export/piecewise_model_128_keras/assets\n"
     ]
    }
   ],
   "source": [
    "import os\n",
    "import nobuco\n",
    "from nobuco import ChannelOrder, ChannelOrderingStrategy\n",
    "from nobuco.layers.weight import WeightLayer\n",
    "\n",
    "model_name = \"piecewise_model_128\"\n",
    "\n",
    "export_dir = \"./export\"\n",
    "os.makedirs(export_dir, exist_ok=True)\n",
    "\n",
    "#torch file\n",
    "torch.save(model, f\"{export_dir}/{model_name}_torch.pth\")\n",
    "\n",
    "#keras file\n",
    "dummy_input = torch.rand(size=(1,INPUT_SIZE))\n",
    "keras_model = nobuco.pytorch_to_keras(\n",
    "    model.eval(),\n",
    "    args=[dummy_input], kwargs=None,\n",
    "    inputs_channel_order=ChannelOrder.PYTORCH,\n",
    "    outputs_channel_order=ChannelOrder.PYTORCH,\n",
    ")\n",
    "keras_model.save(f\"{export_dir}/{model_name}_keras\")"
   ]
  },
  {
   "cell_type": "code",
   "execution_count": 108,
   "metadata": {},
   "outputs": [
    {
     "name": "stdout",
     "output_type": "stream",
     "text": [
      "INFO:tensorflow:Assets written to: /var/folders/fm/j5zsv9x1121cqbb30njg041r0000gn/T/tmp1g9fcp3l/assets\n"
     ]
    },
    {
     "name": "stderr",
     "output_type": "stream",
     "text": [
      "INFO:tensorflow:Assets written to: /var/folders/fm/j5zsv9x1121cqbb30njg041r0000gn/T/tmp1g9fcp3l/assets\n",
      "/Library/Frameworks/Python.framework/Versions/3.11/lib/python3.11/site-packages/tensorflow/lite/python/convert.py:953: UserWarning: Statistics for quantized inputs were expected, but not specified; continuing anyway.\n",
      "  warnings.warn(\n",
      "2025-03-13 23:02:03.253513: W tensorflow/compiler/mlir/lite/python/tf_tfl_flatbuffer_helpers.cc:378] Ignored output_format.\n",
      "2025-03-13 23:02:03.253523: W tensorflow/compiler/mlir/lite/python/tf_tfl_flatbuffer_helpers.cc:381] Ignored drop_control_dependency.\n",
      "2025-03-13 23:02:03.253634: I tensorflow/cc/saved_model/reader.cc:83] Reading SavedModel from: /var/folders/fm/j5zsv9x1121cqbb30njg041r0000gn/T/tmp1g9fcp3l\n",
      "2025-03-13 23:02:03.254168: I tensorflow/cc/saved_model/reader.cc:51] Reading meta graph with tags { serve }\n",
      "2025-03-13 23:02:03.254174: I tensorflow/cc/saved_model/reader.cc:146] Reading SavedModel debug info (if present) from: /var/folders/fm/j5zsv9x1121cqbb30njg041r0000gn/T/tmp1g9fcp3l\n",
      "2025-03-13 23:02:03.255546: I tensorflow/cc/saved_model/loader.cc:233] Restoring SavedModel bundle.\n",
      "2025-03-13 23:02:03.268242: I tensorflow/cc/saved_model/loader.cc:217] Running initialization op on SavedModel bundle at path: /var/folders/fm/j5zsv9x1121cqbb30njg041r0000gn/T/tmp1g9fcp3l\n",
      "2025-03-13 23:02:03.273857: I tensorflow/cc/saved_model/loader.cc:316] SavedModel load for tags { serve }; Status: success: OK. Took 20222 microseconds.\n",
      "Summary on the non-converted ops:\n",
      "---------------------------------\n",
      " * Accepted dialects: tfl, builtin, func\n",
      " * Non-Converted Ops: 8, Total Ops 15, % non-converted = 53.33 %\n",
      " * 8 ARITH ops\n",
      "\n",
      "- arith.constant:    8 occurrences  (f32: 8)\n",
      "\n",
      "\n",
      "\n",
      "  (f32: 4)\n",
      "2025-03-13 23:02:03.298446: I tensorflow/compiler/mlir/lite/flatbuffer_export.cc:2989] Estimated count of arithmetic ops: 0.077 M  ops, equivalently 0.038 M  MACs\n",
      "fully_quantize: 0, inference_type: 6, input_inference_type: INT8, output_inference_type: INT8\n",
      "2025-03-13 23:02:03.456913: I tensorflow/compiler/mlir/lite/flatbuffer_export.cc:2989] Estimated count of arithmetic ops: 0.077 M  ops, equivalently 0.038 M  MACs\n"
     ]
    }
   ],
   "source": [
    "import tensorflow as tf\n",
    "\n",
    "def representative_data_gen():\n",
    "    for _ in range(10000):  # Use 1000 samples for calibration\n",
    "        input_value = np.random.uniform(-1, 1, size=(INPUT_SIZE)).astype(np.float32)  \n",
    "        yield [input_value]  # Wrap in a list since the model expects batched input\n",
    "    \n",
    "converter = tf.lite.TFLiteConverter.from_keras_model(keras_model)  # Create a converter\n",
    "converter.optimizations = [tf.lite.Optimize.DEFAULT]  # Enable optimizations (quantization)\n",
    "converter.target_spec.supported_types = [tf.int8]  # Limit model to int8\n",
    "converter.representative_dataset = representative_data_gen  # Use sample data for calibration\n",
    "converter.target_spec.supported_ops = [tf.lite.OpsSet.TFLITE_BUILTINS_INT8]  # Ensure int8 ops\n",
    "converter.inference_input_type = tf.int8  # Input tensor type\n",
    "converter.inference_type = tf.int8  # Internal computation type\n",
    "converter.inference_output_type = tf.int8  # Output tensor type\n",
    "# converter.inference_output_type = tf.float32  # Reduce output quantization error\n",
    "\n",
    "tflite_model = converter.convert()\n",
    "with open(f\"{export_dir}/{model_name}.tflite\", \"wb\") as f:\n",
    "    f.write(tflite_model)"
   ]
  },
  {
   "cell_type": "code",
   "execution_count": 109,
   "metadata": {},
   "outputs": [
    {
     "name": "stdout",
     "output_type": "stream",
     "text": [
      "{'name': 'serving_default_args_0:0', 'index': 0, 'shape': array([ 1, 42], dtype=int32), 'shape_signature': array([ 1, 42], dtype=int32), 'dtype': <class 'numpy.int8'>, 'quantization': (0.007843103259801865, 0), 'quantization_parameters': {'scales': array([0.0078431], dtype=float32), 'zero_points': array([0], dtype=int32), 'quantized_dimension': 0}, 'sparsity_parameters': {}}\n",
      "{'name': 'StatefulPartitionedCall:0', 'index': 12, 'shape': array([1, 1], dtype=int32), 'shape_signature': array([1, 1], dtype=int32), 'dtype': <class 'numpy.int8'>, 'quantization': (0.03959125280380249, -3), 'quantization_parameters': {'scales': array([0.03959125], dtype=float32), 'zero_points': array([-3], dtype=int32), 'quantized_dimension': 0}, 'sparsity_parameters': {}}\n"
     ]
    }
   ],
   "source": [
    "interpreter = tf.lite.Interpreter(model_path=f\"{export_dir}/{model_name}.tflite\")\n",
    "interpreter.allocate_tensors()\n",
    "\n",
    "\n",
    "# Get input and output tensors.\n",
    "input_details = interpreter.get_input_details()\n",
    "output_details = interpreter.get_output_details()\n",
    "\n",
    "for input_detail in input_details:\n",
    "    print(input_detail)\n",
    "for output_detail in output_details:\n",
    "    print(output_detail)"
   ]
  },
  {
   "cell_type": "code",
   "execution_count": 110,
   "metadata": {},
   "outputs": [],
   "source": [
    "import os\n",
    "import json\n",
    "\n",
    "os.system(f\"xxd -i {export_dir}/{model_name}.tflite > {export_dir}/{model_name}.cpp\")\n",
    "\n",
    "pytorch_model_str = repr(model)\n",
    "\n",
    "input_details_str = json.dumps(input_details[0], indent=2, default=str)\n",
    "output_details_str = json.dumps(output_details[0], indent=2, default=str)\n",
    "\n",
    "# Prepend attributes and input/output details to the cpp file\n",
    "with open(f\"{export_dir}/{model_name}.cpp\", \"r\") as f:\n",
    "    cpp_content = f.read()\n",
    "\n",
    "cpp_content = cpp_content.replace(f\"unsigned char __export_{model_name}_tflite[] \", f\"unsigned const char {model_name}[] DATA_ALIGN_ATTRIBUTE\")\n",
    "cpp_content = cpp_content.replace(f\"unsigned int __export_{model_name}_tflite_len\", f\"unsigned const int {model_name}_len\")\n",
    "\n",
    "\n",
    "prepend_content = f'''\n",
    "#include \"{model_name}.h\"\n",
    "\n",
    "// We need to keep the data array aligned on some architectures.\n",
    "#ifdef __has_attribute\n",
    "#define HAVE_ATTRIBUTE(x) __has_attribute(x)\n",
    "#else\n",
    "#define HAVE_ATTRIBUTE(x) 0\n",
    "#endif\n",
    "#if HAVE_ATTRIBUTE(aligned) || (defined(__GNUC__) && !defined(__clang__))\n",
    "#define DATA_ALIGN_ATTRIBUTE __attribute__((aligned(4)))\n",
    "#else\n",
    "#define DATA_ALIGN_ATTRIBUTE\n",
    "#endif\n",
    "/*\n",
    "{pytorch_model_str}\n",
    "\n",
    "Input details:\n",
    "{input_details_str}\n",
    "\n",
    "Output details:\n",
    "{output_details_str}\n",
    "*/\n",
    "\n",
    "'''\n",
    "\n",
    "# Write the modified content back to the file\n",
    "with open(f\"{export_dir}/{model_name}.cpp\", \"w\") as f:\n",
    "    f.write(prepend_content + cpp_content)\n",
    "\n",
    "\n",
    "# Create a header file\n",
    "header_file_content = f'''\n",
    "#ifndef {model_name.upper()}\n",
    "#define {model_name.upper()}\n",
    "\n",
    "extern const unsigned char {model_name}[];\n",
    "extern const unsigned int {model_name}_len;\n",
    "\n",
    "#endif      \n",
    "'''\n",
    "with open(f\"{export_dir}/{model_name}.h\", \"w\") as f:\n",
    "    f.write(header_file_content)\n"
   ]
  },
  {
   "cell_type": "code",
   "execution_count": 111,
   "metadata": {},
   "outputs": [
    {
     "data": {
      "text/plain": [
       "[{'name': 'StatefulPartitionedCall:0',\n",
       "  'index': 12,\n",
       "  'shape': array([1, 1], dtype=int32),\n",
       "  'shape_signature': array([1, 1], dtype=int32),\n",
       "  'dtype': numpy.int8,\n",
       "  'quantization': (0.03959125280380249, -3),\n",
       "  'quantization_parameters': {'scales': array([0.03959125], dtype=float32),\n",
       "   'zero_points': array([-3], dtype=int32),\n",
       "   'quantized_dimension': 0},\n",
       "  'sparsity_parameters': {}}]"
      ]
     },
     "execution_count": 111,
     "metadata": {},
     "output_type": "execute_result"
    }
   ],
   "source": [
    "output_details"
   ]
  },
  {
   "cell_type": "code",
   "execution_count": 258,
   "metadata": {},
   "outputs": [
    {
     "name": "stdout",
     "output_type": "stream",
     "text": [
      "Quantization error RMS: 0.29%\n",
      "Percentage of errors below 2%: 80.19%\n",
      "Percentage of errors below 5%: 99.95%\n",
      "99% of errors are below: 3.66%\n",
      "97% of errors are below: 3.18%\n"
     ]
    },
    {
     "data": {
      "image/png": "[encoded data removed]",
      "text/plain": [
       "<Figure size 1000x600 with 1 Axes>"
      ]
     },
     "metadata": {},
     "output_type": "display_data"
    }
   ],
   "source": [
    "# test quantized model\n",
    "num_test_points = 10000\n",
    "\n",
    "#get quantization parameters from input details\n",
    "input_scale = input_details[0]['quantization_parameters']['scales'][0]\n",
    "input_zero_point = input_details[0]['quantization_parameters']['zero_points'][0]\n",
    "\n",
    "input_float = np.random.uniform(-1, 1, size=(num_test_points,INPUT_SIZE))\n",
    "\n",
    "# input_quantized = np.round(input_float / input_scale + input_zero_point).astype(np.int8)\n",
    "input_quantized = np.clip(np.round(input_float / input_scale + input_zero_point), -128, 127).astype(np.int8)\n",
    "\n",
    "input_quantized = input_quantized.reshape((-1,INPUT_SIZE))\n",
    "\n",
    "output_data = np.zeros((num_test_points,OUTPUT_SIZE))\n",
    "for i in range(num_test_points):\n",
    "    interpreter.set_tensor(input_details[0]['index'], input_quantized[i].reshape((1,INPUT_SIZE)))\n",
    "    interpreter.invoke()\n",
    "    output_data[i] = interpreter.get_tensor(output_details[0]['index'])\n",
    "\n",
    "# Get the quantization parameters from the output details\n",
    "output_scale = output_details[0]['quantization_parameters']['scales'][0]\n",
    "output_zero_point = output_details[0]['quantization_parameters']['zero_points'][0]\n",
    "\n",
    "output_data_float = (output_data.astype(np.float32) - output_zero_point) * output_scale\n",
    "\n",
    "true_val = func_to_approx(input_float)\n",
    "pre_quant = keras_model.predict(input_float.reshape((-1,INPUT_SIZE)), verbose=0)\n",
    "\n",
    "quant_error = pre_quant - output_data_float\n",
    "true_error = true_val - output_data_float.flatten()\n",
    "prequant_error =  true_val - pre_quant.flatten()\n",
    "\n",
    "rms_error = np.sqrt(np.mean(quant_error ** 2)) / np.max(np.abs(true_val))\n",
    "max_error = np.max(quant_error) / np.max(np.abs(true_val))\n",
    "min_error = np.min(quant_error) / np.max(np.abs(true_val))\n",
    "print(f'Quantization error RMS: {rms_error:.2%}')\n",
    "\n",
    "# get percentage of errors below 2%\n",
    "below_2_percent = np.sum(np.abs(quant_error) < 0.02) / num_test_points\n",
    "print(f'Percentage of errors below 2%: {below_2_percent:.2%}')\n",
    "\n",
    "# get percentage of errors below 5%\n",
    "below_5_percent = np.sum(np.abs(quant_error) < 0.05) / num_test_points\n",
    "print(f'Percentage of errors below 5%: {below_5_percent:.2%}')\n",
    "\n",
    "# percent error where 99% of errors are below this value\n",
    "percent_error_99 = np.percentile(np.abs(quant_error), 99)\n",
    "print(f'99% of errors are below: {percent_error_99:.2%}')\n",
    "\n",
    "# percent error where 97% of errors are below this value\n",
    "percent_error_97 = np.percentile(np.abs(quant_error), 97)\n",
    "print(f'97% of errors are below: {percent_error_97:.2%}')\n",
    "\n",
    "# Create histogram of quantization errors\n",
    "plt.figure(figsize=(10, 6))\n",
    "plt.hist(quant_error.flatten(), bins=100, edgecolor='black', alpha=0.6, label='Quantization Error', density=True)\n",
    "plt.hist(true_error.flatten(), bins=100, edgecolor='black', alpha=0.2, label='True Error', density=True)\n",
    "plt.hist(prequant_error.flatten(), bins=100, edgecolor='black', alpha=0.2, label='Prequantization Error', density=True)\n",
    "plt.title('Distribution of Quantization Errors')\n",
    "plt.xlabel('Error')\n",
    "plt.ylabel('Count')\n",
    "plt.legend()\n",
    "plt.show()"
   ]
  },
  {
   "cell_type": "code",
   "execution_count": 193,
   "metadata": {},
   "outputs": [
    {
     "data": {
      "text/plain": [
       "5.098274096535212"
      ]
     },
     "execution_count": 193,
     "metadata": {},
     "output_type": "execute_result"
    }
   ],
   "source": [
    "np.max(np.abs(true_val))"
   ]
  },
  {
   "cell_type": "code",
   "execution_count": 169,
   "metadata": {},
   "outputs": [
    {
     "data": {
      "text/plain": [
       "(array([[7]], dtype=int8), array([[0.39591253]], dtype=float32))"
      ]
     },
     "execution_count": 169,
     "metadata": {},
     "output_type": "execute_result"
    }
   ],
   "source": [
    "#check output from ESP32\n",
    "\n",
    "input_arr = [-0.408691, 0.437988, -0.940918, 0.882324, 0.351562, -0.757324, 0.149414, 0.138672, -0.560547, 0.874023, 0.345215, 0.195801, -0.579590, -0.077637, -0.139648, 0.536133, 0.252441, -0.216797, -0.665527, 0.402832, -0.377930, 0.065918, -0.197266, 0.588867, 0.310547, 0.821777, -0.488281, 0.793457, 0.765625, 0.857422, -0.972168, 0.366211, 0.315918, 0.244141, 0.493652, 0.587891, -0.682129, -0.344238, -0.627930, 0.834961, -0.599121, 0.222168]\n",
    "input_quantized = np.clip(np.round(input_arr / input_scale + input_zero_point), -128, 127).astype(np.int8)\n",
    "\n",
    "\n",
    "interpreter.set_tensor(input_details[0]['index'], input_quantized.reshape((1,INPUT_SIZE)))\n",
    "interpreter.invoke()\n",
    "output_data_int = interpreter.get_tensor(output_details[0]['index'])\n",
    "\n",
    "output_data_float = (output_data.astype(np.float32) - output_zero_point) * output_scale\n",
    "output_data_int, output_data_float"
   ]
  },
  {
   "cell_type": "markdown",
   "metadata": {},
   "source": [
    "## 6. Export to ONNX (unused)\n",
    "\n",
    "The ONNX format allows us to deploy our model in various environments and frameworks."
   ]
  },
  {
   "cell_type": "code",
   "execution_count": 14,
   "metadata": {},
   "outputs": [
    {
     "name": "stdout",
     "output_type": "stream",
     "text": [
      "Model exported to sin_model.onnx\n"
     ]
    }
   ],
   "source": [
    "def export_to_onnx(model, filename='sin_model.onnx'):\n",
    "    \"\"\"Export the trained model to ONNX format\"\"\"\n",
    "    # Create a dummy input tensor with the correct shape\n",
    "    dummy_input = torch.randn(1, INPUT_SIZE, device=DEVICE)\n",
    "    \n",
    "    # Export the model\n",
    "    torch.onnx.export(\n",
    "        model,                       # model being run\n",
    "        dummy_input,                 # model input (or a tuple for multiple inputs)\n",
    "        filename,                    # where to save the model\n",
    "        export_params=True,          # store the trained parameter weights inside the model file\n",
    "        opset_version=12,            # the ONNX version to export the model to\n",
    "        do_constant_folding=True,    # whether to execute constant folding for optimization\n",
    "        input_names=['input'],       # the model's input names\n",
    "        output_names=['output'],     # the model's output names\n",
    "        dynamic_axes={\n",
    "            'input': {0: 'batch_size'},\n",
    "            'output': {0: 'batch_size'}\n",
    "        }\n",
    "    )\n",
    "    print(f\"Model exported to {filename}\")\n",
    "\n",
    "# Export the model to ONNX\n",
    "export_to_onnx(model)"
   ]
  }
 ],
 "metadata": {
  "kernelspec": {
   "display_name": "Python 3",
   "language": "python",
   "name": "python3"
  },
  "language_info": {
   "codemirror_mode": {
    "name": "ipython",
    "version": 3
   },
   "file_extension": ".py",
   "mimetype": "text/x-python",
   "name": "python",
   "nbconvert_exporter": "python",
   "pygments_lexer": "ipython3",
   "version": "3.11.4"
  }
 },
 "nbformat": 4,
 "nbformat_minor": 4
}
