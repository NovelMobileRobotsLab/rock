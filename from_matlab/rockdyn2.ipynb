{
 "cells": [
  {
   "cell_type": "code",
   "execution_count": 12,
   "metadata": {},
   "outputs": [
    {
     "ename": "TypeError",
     "evalue": "can't multiply sequence by non-int of type 'MutableDenseMatrix'",
     "output_type": "error",
     "traceback": [
      "\u001b[0;31m---------------------------------------------------------------------------\u001b[0m",
      "\u001b[0;31mTypeError\u001b[0m                                 Traceback (most recent call last)",
      "Cell \u001b[0;32mIn[12], line 99\u001b[0m\n\u001b[1;32m     96\u001b[0m J3w \u001b[38;5;241m=\u001b[39m Matrix\u001b[38;5;241m.\u001b[39mhstack(z00, y01, x02, zeros(\u001b[38;5;241m3\u001b[39m, \u001b[38;5;241m1\u001b[39m))\n\u001b[1;32m     97\u001b[0m J4w \u001b[38;5;241m=\u001b[39m Matrix\u001b[38;5;241m.\u001b[39mhstack(z00, y01, x02, z03)\n\u001b[0;32m---> 99\u001b[0m v_CG \u001b[38;5;241m=\u001b[39m \u001b[43mdiffT\u001b[49m\u001b[43m(\u001b[49m\u001b[43mMatrix\u001b[49m\u001b[43m(\u001b[49m\u001b[43mCG\u001b[49m\u001b[43m[\u001b[49m\u001b[43m:\u001b[49m\u001b[38;5;241;43m3\u001b[39;49m\u001b[43m]\u001b[49m\u001b[43m)\u001b[49m\u001b[43m,\u001b[49m\u001b[43m \u001b[49m\u001b[43mMatrix\u001b[49m\u001b[43m(\u001b[49m\u001b[43m[\u001b[49m\u001b[43mq\u001b[49m\u001b[43m,\u001b[49m\u001b[43m \u001b[49m\u001b[43mqd\u001b[49m\u001b[43m]\u001b[49m\u001b[43m)\u001b[49m\u001b[43m,\u001b[49m\u001b[43m \u001b[49m\u001b[38;5;241;43m1\u001b[39;49m\u001b[43m)\u001b[49m\n\u001b[1;32m    100\u001b[0m a_CG \u001b[38;5;241m=\u001b[39m diffT(v_CG, Matrix([q, qd]), \u001b[38;5;241m1\u001b[39m)\n\u001b[1;32m    101\u001b[0m F \u001b[38;5;241m=\u001b[39m a_CG \u001b[38;5;241m+\u001b[39m Matrix([\u001b[38;5;241m0\u001b[39m, \u001b[38;5;241m0\u001b[39m, \u001b[38;5;241m9.81\u001b[39m])\n",
      "Cell \u001b[0;32mIn[12], line 70\u001b[0m, in \u001b[0;36mdiffT\u001b[0;34m(T, vars, order)\u001b[0m\n\u001b[1;32m     68\u001b[0m \u001b[38;5;66;03m# Compute Jacobian and first derivative\u001b[39;00m\n\u001b[1;32m     69\u001b[0m J \u001b[38;5;241m=\u001b[39m T\u001b[38;5;241m.\u001b[39mjacobian(q)  \u001b[38;5;66;03m# Use Matrix.jacobian method\u001b[39;00m\n\u001b[0;32m---> 70\u001b[0m dT \u001b[38;5;241m=\u001b[39m \u001b[43mJ\u001b[49m\u001b[43m \u001b[49m\u001b[38;5;241;43m*\u001b[39;49m\u001b[43m \u001b[49m\u001b[43mqd\u001b[49m  \u001b[38;5;66;03m# dT/dt = ∂T/∂q * dq/dt\u001b[39;00m\n\u001b[1;32m     72\u001b[0m \u001b[38;5;66;03m# Higher-order derivatives\u001b[39;00m\n\u001b[1;32m     73\u001b[0m \u001b[38;5;28;01mif\u001b[39;00m order \u001b[38;5;241m>\u001b[39m \u001b[38;5;241m1\u001b[39m:\n",
      "\u001b[0;31mTypeError\u001b[0m: can't multiply sequence by non-int of type 'MutableDenseMatrix'"
     ]
    }
   ],
   "source": [
    "import sympy as sp\n",
    "import numpy as np\n",
    "from sympy import sin, cos, atan2, diag, Matrix, zeros, simplify, diff\n",
    "\n",
    "# Start timing\n",
    "import time\n",
    "start_time = time.time()\n",
    "\n",
    "# Define symbolic variables\n",
    "h, r, m, g, h2 = sp.symbols('h r m g h2')  # height, arm radius, arm mass fraction, gravity, arm height\n",
    "yaw, pit, rol, q4 = sp.symbols('yaw pit rol q4')  # coordinates (rad)\n",
    "yawd, pitd, rold, q4d = sp.symbols('yawd pitd rold q4d')  # velocities (rad/s)\n",
    "Isx, Isy, Isz = sp.symbols('Isx Isy Isz')  # shell inertia\n",
    "Iax, Iay, Iaz = sp.symbols('Iax Iay Iaz')  # arm inertia\n",
    "\n",
    "Is = diag(Isx, Isy, Isz)  # shell inertia tensor\n",
    "Ia = diag(Iax, Iay, Iaz)  # arm inertia tensor\n",
    "\n",
    "q = Matrix([yaw, pit, rol, q4])  # coordinate vector\n",
    "qd = Matrix([yawd, pitd, rold, q4d])  # velocity vector\n",
    "\n",
    "# Forward kinematics\n",
    "R01 = Matrix([[cos(yaw), -sin(yaw), 0],\n",
    "              [sin(yaw), cos(yaw), 0],\n",
    "              [0, 0, 1]])\n",
    "d01 = Matrix([0, 0, 0])\n",
    "\n",
    "R12 = Matrix([[cos(pit), 0, sin(pit)],\n",
    "              [0, 1, 0],\n",
    "              [-sin(pit), 0, cos(pit)]])\n",
    "d12 = Matrix([0, 0, 0])\n",
    "\n",
    "R23 = Matrix([[1, 0, 0],\n",
    "              [0, cos(rol), -sin(rol)],\n",
    "              [0, sin(rol), cos(rol)]])\n",
    "d23 = Matrix([0, -h * sin(rol), h * cos(rol)])\n",
    "\n",
    "R34 = Matrix([[cos(q4), -sin(q4), 0],\n",
    "              [sin(q4), cos(q4), 0],\n",
    "              [0, 0, 1]])\n",
    "d34 = Matrix([r * cos(q4), r * sin(q4), h2])\n",
    "\n",
    "# Homogeneous transformation matrices\n",
    "H01 = R01.row_join(d01).col_join(Matrix([0, 0, 0, 1]).T)\n",
    "H12 = R12.row_join(d12).col_join(Matrix([0, 0, 0, 1]).T)\n",
    "H23 = R23.row_join(d23).col_join(Matrix([0, 0, 0, 1]).T)\n",
    "H34 = R34.row_join(d34).col_join(Matrix([0, 0, 0, 1]).T)\n",
    "\n",
    "R02 = R01 * R12\n",
    "R03 = R02 * R23\n",
    "R04 = R03 * R34\n",
    "\n",
    "H02 = H01 * H12\n",
    "H03 = H02 * H23\n",
    "H04 = H03 * H34\n",
    "\n",
    "CG = H04 * Matrix([-r * 1/(1+m), 0, -h2 * 1/(1+m), 1])  # CG location\n",
    "pts = [Matrix([0, 0, 0, 1]), H03[:, 3], H03 * Matrix([0.3 * r, 0, 0, 1]),\n",
    "       H03[:, 3], CG, H04[:, 3]]\n",
    "\n",
    "# Differential kinematics\n",
    "def diffT(T, vars, order):\n",
    "    \"\"\"Compute time derivative of vector T.\"\"\"\n",
    "    n = len(vars) // 2\n",
    "    q = vars[:n]  # joint positions\n",
    "    qd = vars[n:]  # joint velocities\n",
    "\n",
    "    T = Matrix(T)\n",
    "    q = Matrix(q)\n",
    "    qd = Matrix(qd)\n",
    "    \n",
    "    # Compute Jacobian and first derivative\n",
    "    J = T.jacobian(q)  # Use Matrix.jacobian method\n",
    "    dT = J * qd  # dT/dt = ∂T/∂q * dq/dt\n",
    "    \n",
    "    # Higher-order derivatives\n",
    "    if order > 1:\n",
    "        for _ in range(order - 1):\n",
    "            dT = diffT(dT, vars, 1)\n",
    "    return dT\n",
    "\n",
    "z00 = Matrix([0, 0, 1])\n",
    "y01 = R01[:, 1]\n",
    "x02 = R02[:, 0]\n",
    "z03 = R03[:, 2]\n",
    "\n",
    "J1v = zeros(3, 4)\n",
    "J2v = zeros(3, 4)\n",
    "J3v = Matrix.hstack(z00.cross(H03[:3, 3]),\n",
    "                    y01.cross(H03[:3, 3]),\n",
    "                    x02.cross(H03[:3, 3]),\n",
    "                    zeros(3, 1))\n",
    "J4v = Matrix.hstack(z00.cross(H04[:3, 3]),\n",
    "                    y01.cross(H04[:3, 3]),\n",
    "                    x02.cross(H04[:3, 3]),\n",
    "                    z03.cross(H04[:3, 3]) - H03[:3, 3])\n",
    "\n",
    "J1w = Matrix.hstack(z00, zeros(3, 3))\n",
    "J2w = Matrix.hstack(z00, y01, zeros(3, 2))\n",
    "J3w = Matrix.hstack(z00, y01, x02, zeros(3, 1))\n",
    "J4w = Matrix.hstack(z00, y01, x02, z03)\n",
    "\n",
    "v_CG = diffT(CG[:3], Matrix([q, qd]), 1)\n",
    "a_CG = diffT(v_CG, Matrix([q, qd]), 1)\n",
    "F = a_CG + Matrix([0, 0, 9.81])\n",
    "\n",
    "# Potential energy\n",
    "P = 1 * g * H03[2, 3] + m * g * H04[2, 3]  # Potential energy (J)\n",
    "G = P.jacobian(q).T  # Use Matrix.jacobian method\n",
    "\n",
    "# M & C matrices\n",
    "M = 1 * (J3v.T * J3v) + (J3w.T * R03 * Is * R03.T * J3w) + \\\n",
    "    m * (J4v.T * J4v) + (J4w.T * R04 * Ia * R04.T * J4w)\n",
    "\n",
    "K = 0.5 * qd.T * M * qd\n",
    "E = P + K[0]  # K is a 1x1 matrix, extract scalar\n",
    "\n",
    "C = zeros(4, 4)\n",
    "for k in range(4):\n",
    "    for j in range(4):\n",
    "        for i in range(4):\n",
    "            C[k, j] += 0.5 * (diff(M[k, j], q[i]) +\n",
    "                             diff(M[k, i], q[j]) -\n",
    "                             diff(M[i, j], q[k])) * qd[i]\n",
    "C = simplify(C)\n",
    "\n",
    "# External forces\n",
    "J_CG = CG[:3].jacobian(q)  # Use Matrix.jacobian method\n",
    "\n",
    "# Display timing\n",
    "elapsed_time = time.time() - start_time\n",
    "print(f\"symbolics in {elapsed_time:.2f}s\")"
   ]
  },
  {
   "cell_type": "code",
   "execution_count": 11,
   "metadata": {},
   "outputs": [
    {
     "data": {
      "text/latex": [
       "$\\displaystyle \\left[\\begin{matrix}h \\sin{\\left(pit \\right)} \\cos{\\left(rol \\right)} \\cos{\\left(yaw \\right)} + h \\sin{\\left(rol \\right)} \\sin{\\left(yaw \\right)} + h_{2} \\left(\\sin{\\left(pit \\right)} \\cos{\\left(rol \\right)} \\cos{\\left(yaw \\right)} + \\sin{\\left(rol \\right)} \\sin{\\left(yaw \\right)}\\right) - \\frac{h_{2} \\left(\\sin{\\left(pit \\right)} \\cos{\\left(rol \\right)} \\cos{\\left(yaw \\right)} + \\sin{\\left(rol \\right)} \\sin{\\left(yaw \\right)}\\right)}{m + 1} + r \\left(\\sin{\\left(pit \\right)} \\sin{\\left(rol \\right)} \\cos{\\left(yaw \\right)} - \\sin{\\left(yaw \\right)} \\cos{\\left(rol \\right)}\\right) \\sin{\\left(q_{4} \\right)} + r \\cos{\\left(pit \\right)} \\cos{\\left(q_{4} \\right)} \\cos{\\left(yaw \\right)} - \\frac{r \\left(\\left(\\sin{\\left(pit \\right)} \\sin{\\left(rol \\right)} \\cos{\\left(yaw \\right)} - \\sin{\\left(yaw \\right)} \\cos{\\left(rol \\right)}\\right) \\sin{\\left(q_{4} \\right)} + \\cos{\\left(pit \\right)} \\cos{\\left(q_{4} \\right)} \\cos{\\left(yaw \\right)}\\right)}{m + 1}\\\\h \\sin{\\left(pit \\right)} \\sin{\\left(yaw \\right)} \\cos{\\left(rol \\right)} - h \\sin{\\left(rol \\right)} \\cos{\\left(yaw \\right)} + h_{2} \\left(\\sin{\\left(pit \\right)} \\sin{\\left(yaw \\right)} \\cos{\\left(rol \\right)} - \\sin{\\left(rol \\right)} \\cos{\\left(yaw \\right)}\\right) - \\frac{h_{2} \\left(\\sin{\\left(pit \\right)} \\sin{\\left(yaw \\right)} \\cos{\\left(rol \\right)} - \\sin{\\left(rol \\right)} \\cos{\\left(yaw \\right)}\\right)}{m + 1} + r \\left(\\sin{\\left(pit \\right)} \\sin{\\left(rol \\right)} \\sin{\\left(yaw \\right)} + \\cos{\\left(rol \\right)} \\cos{\\left(yaw \\right)}\\right) \\sin{\\left(q_{4} \\right)} + r \\sin{\\left(yaw \\right)} \\cos{\\left(pit \\right)} \\cos{\\left(q_{4} \\right)} - \\frac{r \\left(\\left(\\sin{\\left(pit \\right)} \\sin{\\left(rol \\right)} \\sin{\\left(yaw \\right)} + \\cos{\\left(rol \\right)} \\cos{\\left(yaw \\right)}\\right) \\sin{\\left(q_{4} \\right)} + \\sin{\\left(yaw \\right)} \\cos{\\left(pit \\right)} \\cos{\\left(q_{4} \\right)}\\right)}{m + 1}\\\\h \\cos{\\left(pit \\right)} \\cos{\\left(rol \\right)} + h_{2} \\cos{\\left(pit \\right)} \\cos{\\left(rol \\right)} - \\frac{h_{2} \\cos{\\left(pit \\right)} \\cos{\\left(rol \\right)}}{m + 1} - r \\sin{\\left(pit \\right)} \\cos{\\left(q_{4} \\right)} + r \\sin{\\left(q_{4} \\right)} \\sin{\\left(rol \\right)} \\cos{\\left(pit \\right)} - \\frac{r \\left(- \\sin{\\left(pit \\right)} \\cos{\\left(q_{4} \\right)} + \\sin{\\left(q_{4} \\right)} \\sin{\\left(rol \\right)} \\cos{\\left(pit \\right)}\\right)}{m + 1}\\\\1\\end{matrix}\\right]$"
      ],
      "text/plain": [
       "Matrix([\n",
       "[h*sin(pit)*cos(rol)*cos(yaw) + h*sin(rol)*sin(yaw) + h2*(sin(pit)*cos(rol)*cos(yaw) + sin(rol)*sin(yaw)) - h2*(sin(pit)*cos(rol)*cos(yaw) + sin(rol)*sin(yaw))/(m + 1) + r*(sin(pit)*sin(rol)*cos(yaw) - sin(yaw)*cos(rol))*sin(q4) + r*cos(pit)*cos(q4)*cos(yaw) - r*((sin(pit)*sin(rol)*cos(yaw) - sin(yaw)*cos(rol))*sin(q4) + cos(pit)*cos(q4)*cos(yaw))/(m + 1)],\n",
       "[h*sin(pit)*sin(yaw)*cos(rol) - h*sin(rol)*cos(yaw) + h2*(sin(pit)*sin(yaw)*cos(rol) - sin(rol)*cos(yaw)) - h2*(sin(pit)*sin(yaw)*cos(rol) - sin(rol)*cos(yaw))/(m + 1) + r*(sin(pit)*sin(rol)*sin(yaw) + cos(rol)*cos(yaw))*sin(q4) + r*sin(yaw)*cos(pit)*cos(q4) - r*((sin(pit)*sin(rol)*sin(yaw) + cos(rol)*cos(yaw))*sin(q4) + sin(yaw)*cos(pit)*cos(q4))/(m + 1)],\n",
       "[                                                                                                                                                                            h*cos(pit)*cos(rol) + h2*cos(pit)*cos(rol) - h2*cos(pit)*cos(rol)/(m + 1) - r*sin(pit)*cos(q4) + r*sin(q4)*sin(rol)*cos(pit) - r*(-sin(pit)*cos(q4) + sin(q4)*sin(rol)*cos(pit))/(m + 1)],\n",
       "[                                                                                                                                                                                                                                                                                                                                                                   1]])"
      ]
     },
     "execution_count": 11,
     "metadata": {},
     "output_type": "execute_result"
    }
   ],
   "source": [
    "CG"
   ]
  },
  {
   "cell_type": "code",
   "execution_count": 10,
   "metadata": {},
   "outputs": [
    {
     "data": {
      "text/latex": [
       "$\\displaystyle \\left[\\begin{matrix}h \\sin{\\left(pit \\right)} \\cos{\\left(rol \\right)} \\cos{\\left(yaw \\right)} + h \\sin{\\left(rol \\right)} \\sin{\\left(yaw \\right)} + h_{2} \\left(\\sin{\\left(pit \\right)} \\cos{\\left(rol \\right)} \\cos{\\left(yaw \\right)} + \\sin{\\left(rol \\right)} \\sin{\\left(yaw \\right)}\\right) - \\frac{h_{2} \\left(\\sin{\\left(pit \\right)} \\cos{\\left(rol \\right)} \\cos{\\left(yaw \\right)} + \\sin{\\left(rol \\right)} \\sin{\\left(yaw \\right)}\\right)}{m + 1} + r \\left(\\sin{\\left(pit \\right)} \\sin{\\left(rol \\right)} \\cos{\\left(yaw \\right)} - \\sin{\\left(yaw \\right)} \\cos{\\left(rol \\right)}\\right) \\sin{\\left(q_{4} \\right)} + r \\cos{\\left(pit \\right)} \\cos{\\left(q_{4} \\right)} \\cos{\\left(yaw \\right)} - \\frac{r \\left(\\left(\\sin{\\left(pit \\right)} \\sin{\\left(rol \\right)} \\cos{\\left(yaw \\right)} - \\sin{\\left(yaw \\right)} \\cos{\\left(rol \\right)}\\right) \\sin{\\left(q_{4} \\right)} + \\cos{\\left(pit \\right)} \\cos{\\left(q_{4} \\right)} \\cos{\\left(yaw \\right)}\\right)}{m + 1}\\\\h \\sin{\\left(pit \\right)} \\sin{\\left(yaw \\right)} \\cos{\\left(rol \\right)} - h \\sin{\\left(rol \\right)} \\cos{\\left(yaw \\right)} + h_{2} \\left(\\sin{\\left(pit \\right)} \\sin{\\left(yaw \\right)} \\cos{\\left(rol \\right)} - \\sin{\\left(rol \\right)} \\cos{\\left(yaw \\right)}\\right) - \\frac{h_{2} \\left(\\sin{\\left(pit \\right)} \\sin{\\left(yaw \\right)} \\cos{\\left(rol \\right)} - \\sin{\\left(rol \\right)} \\cos{\\left(yaw \\right)}\\right)}{m + 1} + r \\left(\\sin{\\left(pit \\right)} \\sin{\\left(rol \\right)} \\sin{\\left(yaw \\right)} + \\cos{\\left(rol \\right)} \\cos{\\left(yaw \\right)}\\right) \\sin{\\left(q_{4} \\right)} + r \\sin{\\left(yaw \\right)} \\cos{\\left(pit \\right)} \\cos{\\left(q_{4} \\right)} - \\frac{r \\left(\\left(\\sin{\\left(pit \\right)} \\sin{\\left(rol \\right)} \\sin{\\left(yaw \\right)} + \\cos{\\left(rol \\right)} \\cos{\\left(yaw \\right)}\\right) \\sin{\\left(q_{4} \\right)} + \\sin{\\left(yaw \\right)} \\cos{\\left(pit \\right)} \\cos{\\left(q_{4} \\right)}\\right)}{m + 1}\\\\h \\cos{\\left(pit \\right)} \\cos{\\left(rol \\right)} + h_{2} \\cos{\\left(pit \\right)} \\cos{\\left(rol \\right)} - \\frac{h_{2} \\cos{\\left(pit \\right)} \\cos{\\left(rol \\right)}}{m + 1} - r \\sin{\\left(pit \\right)} \\cos{\\left(q_{4} \\right)} + r \\sin{\\left(q_{4} \\right)} \\sin{\\left(rol \\right)} \\cos{\\left(pit \\right)} - \\frac{r \\left(- \\sin{\\left(pit \\right)} \\cos{\\left(q_{4} \\right)} + \\sin{\\left(q_{4} \\right)} \\sin{\\left(rol \\right)} \\cos{\\left(pit \\right)}\\right)}{m + 1}\\end{matrix}\\right]$"
      ],
      "text/plain": [
       "Matrix([\n",
       "[h*sin(pit)*cos(rol)*cos(yaw) + h*sin(rol)*sin(yaw) + h2*(sin(pit)*cos(rol)*cos(yaw) + sin(rol)*sin(yaw)) - h2*(sin(pit)*cos(rol)*cos(yaw) + sin(rol)*sin(yaw))/(m + 1) + r*(sin(pit)*sin(rol)*cos(yaw) - sin(yaw)*cos(rol))*sin(q4) + r*cos(pit)*cos(q4)*cos(yaw) - r*((sin(pit)*sin(rol)*cos(yaw) - sin(yaw)*cos(rol))*sin(q4) + cos(pit)*cos(q4)*cos(yaw))/(m + 1)],\n",
       "[h*sin(pit)*sin(yaw)*cos(rol) - h*sin(rol)*cos(yaw) + h2*(sin(pit)*sin(yaw)*cos(rol) - sin(rol)*cos(yaw)) - h2*(sin(pit)*sin(yaw)*cos(rol) - sin(rol)*cos(yaw))/(m + 1) + r*(sin(pit)*sin(rol)*sin(yaw) + cos(rol)*cos(yaw))*sin(q4) + r*sin(yaw)*cos(pit)*cos(q4) - r*((sin(pit)*sin(rol)*sin(yaw) + cos(rol)*cos(yaw))*sin(q4) + sin(yaw)*cos(pit)*cos(q4))/(m + 1)],\n",
       "[                                                                                                                                                                            h*cos(pit)*cos(rol) + h2*cos(pit)*cos(rol) - h2*cos(pit)*cos(rol)/(m + 1) - r*sin(pit)*cos(q4) + r*sin(q4)*sin(rol)*cos(pit) - r*(-sin(pit)*cos(q4) + sin(q4)*sin(rol)*cos(pit))/(m + 1)]])"
      ]
     },
     "execution_count": 10,
     "metadata": {},
     "output_type": "execute_result"
    }
   ],
   "source": [
    "Matrix(CG[:3]).jacobian"
   ]
  }
 ],
 "metadata": {
  "kernelspec": {
   "display_name": "Python 3",
   "language": "python",
   "name": "python3"
  },
  "language_info": {
   "codemirror_mode": {
    "name": "ipython",
    "version": 3
   },
   "file_extension": ".py",
   "mimetype": "text/x-python",
   "name": "python",
   "nbconvert_exporter": "python",
   "pygments_lexer": "ipython3",
   "version": "3.11.4"
  }
 },
 "nbformat": 4,
 "nbformat_minor": 2
}
