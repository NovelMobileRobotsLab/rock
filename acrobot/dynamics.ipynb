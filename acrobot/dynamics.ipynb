{
 "cells": [
  {
   "cell_type": "code",
   "execution_count": 1,
   "metadata": {},
   "outputs": [],
   "source": [
    "from sympy import *\n",
    "import numpy as np\n",
    "\n",
    "import warnings\n",
    "warnings.filterwarnings(\"ignore\", category=DeprecationWarning) "
   ]
  },
  {
   "cell_type": "code",
   "execution_count": 2,
   "metadata": {},
   "outputs": [
    {
     "data": {
      "text/latex": [
       "$\\displaystyle \\dot{θ_1}$"
      ],
      "text/plain": [
       "\\dot{θ_1}"
      ]
     },
     "execution_count": 2,
     "metadata": {},
     "output_type": "execute_result"
    }
   ],
   "source": [
    "t = symbols('t')\n",
    "#states\n",
    "x = Function('x')(t)\n",
    "y = Function('y')(t)\n",
    "th1 = Function('θ_1')(t)\n",
    "th2 = Function('θ_2')(t)\n",
    "all_states = [x,y,th1,th2]\n",
    "\n",
    "#parameters\n",
    "r1, rj, r2 = symbols('r1, r_j, r2')\n",
    "m1, m2, I1, I2, g = symbols('m1, m2, I1, I2, g')\n",
    "\n",
    "#Visuals\n",
    "#use clean() to render d/dt as dots and remove the (t) in functions\n",
    "dots = {}\n",
    "no_t = {}\n",
    "for state in all_states:\n",
    "    d_disp = Function('\\dot{' + state.name + '}')(t)\n",
    "    dd_disp = Function('\\ddot{' + state.name + '}')(t)\n",
    "    dots[state.diff(t)] = d_disp\n",
    "    dots[d_disp.diff(t)] = dd_disp\n",
    "    no_t[state] = symbols(state.name)\n",
    "    no_t[d_disp] = symbols('\\dot{' + state.name + '}')\n",
    "    no_t[dd_disp] = symbols('\\ddot{' + state.name + '}')\n",
    "clean = lambda expr : expr.subs(dots).subs(dots).subs(no_t)\n",
    "half = Rational(1,2)    #keep as fraction rather than floating point\n",
    "\n",
    "clean(th1.diff(t))"
   ]
  },
  {
   "cell_type": "code",
   "execution_count": 3,
   "metadata": {},
   "outputs": [
    {
     "data": {
      "text/latex": [
       "$\\displaystyle P_{1} = \\left[\\begin{matrix}- r_{1} \\sin{\\left(θ_{1} \\right)}\\\\r_{1} \\cos{\\left(θ_{1} \\right)}\\end{matrix}\\right]$"
      ],
      "text/plain": [
       "Eq(P1, Matrix([\n",
       "[-r1*sin(θ_1)],\n",
       "[ r1*cos(θ_1)]]))"
      ]
     },
     "metadata": {},
     "output_type": "display_data"
    },
    {
     "data": {
      "text/latex": [
       "$\\displaystyle P_{j} = \\left[\\begin{matrix}- r_{j} \\sin{\\left(θ_{1} \\right)}\\\\r_{j} \\cos{\\left(θ_{1} \\right)}\\end{matrix}\\right]$"
      ],
      "text/plain": [
       "Eq(P_j, Matrix([\n",
       "[-r_j*sin(θ_1)],\n",
       "[ r_j*cos(θ_1)]]))"
      ]
     },
     "metadata": {},
     "output_type": "display_data"
    },
    {
     "data": {
      "text/latex": [
       "$\\displaystyle P_{2} = \\left[\\begin{matrix}r_{2} \\sin{\\left(θ_{1} + θ_{2} \\right)} - r_{j} \\sin{\\left(θ_{1} \\right)}\\\\- r_{2} \\cos{\\left(θ_{1} + θ_{2} \\right)} + r_{j} \\cos{\\left(θ_{1} \\right)}\\end{matrix}\\right]$"
      ],
      "text/plain": [
       "Eq(P2, Matrix([\n",
       "[ r2*sin(θ_1 + θ_2) - r_j*sin(θ_1)],\n",
       "[-r2*cos(θ_1 + θ_2) + r_j*cos(θ_1)]]))"
      ]
     },
     "metadata": {},
     "output_type": "display_data"
    }
   ],
   "source": [
    "'''Kinematics'''\n",
    "x1 = -r1*sin(th1)\n",
    "y1 = r1*cos(th1)\n",
    "xj = -rj*sin(th1)\n",
    "yj = rj*cos(th1)\n",
    "x2 = xj + r2*sin(th1 + th2)\n",
    "y2 = yj - r2*cos(th1 + th2)\n",
    "\n",
    "display(\n",
    "    clean(Eq(MatrixSymbol('P1', 2, 1), Matrix([x1,y1]))),\n",
    "    clean(Eq(MatrixSymbol('P_j', 2, 1), Matrix([xj,yj]))),\n",
    "    clean(Eq(MatrixSymbol('P2', 2, 1), Matrix([x2,y2]))),\n",
    ")"
   ]
  },
  {
   "cell_type": "code",
   "execution_count": 4,
   "metadata": {},
   "outputs": [
    {
     "data": {
      "application/vnd.jupyter.widget-view+json": {
       "model_id": "45cee34d9b204106ad482eb7e7a010f6",
       "version_major": 2,
       "version_minor": 0
      },
      "text/plain": [
       "interactive(children=(FloatSlider(value=30.0, description='θ1 (deg)', max=180.0, min=-180.0, step=1.0), FloatS…"
      ]
     },
     "metadata": {},
     "output_type": "display_data"
    }
   ],
   "source": [
    "import numpy as np\n",
    "import matplotlib.pyplot as plt\n",
    "from ipywidgets import interactive\n",
    "import ipywidgets as widgets\n",
    "from IPython.display import display\n",
    "%matplotlib inline\n",
    "\n",
    "plt.ion()\n",
    "\n",
    "def plot_linkage(th1, th2, r1, r2, rj):\n",
    "    # Convert angles to radians\n",
    "    th1_rad = np.radians(th1)\n",
    "    th2_rad = np.radians(th2)\n",
    "    \n",
    "    # Calculate points\n",
    "    x1 = -r1 * np.sin(th1_rad)\n",
    "    y1 = r1 * np.cos(th1_rad)\n",
    "    xj = -rj * np.sin(th1_rad)\n",
    "    yj = rj * np.cos(th1_rad)\n",
    "    x2 = xj + r2 * np.sin(th1_rad + th2_rad)\n",
    "    y2 = yj - r2 * np.cos(th1_rad + th2_rad)\n",
    "    \n",
    "    # Create plot\n",
    "    fig, ax = plt.subplots(figsize=(6, 6))\n",
    "    \n",
    "    # Plot origin point\n",
    "    ax.plot(0, 0, 'ko', markersize=10, label='Origin')\n",
    "    \n",
    "    # Plot first link (origin to joint)\n",
    "    ax.plot([0, xj], [0, yj], 'b-', linewidth=2, label='Link 1')\n",
    "    \n",
    "    # Plot second link (joint to end)\n",
    "    ax.plot([xj, x2], [yj, y2], 'r-', linewidth=2, label='Link 2')\n",
    "    \n",
    "    # Plot point P1\n",
    "    ax.plot(x1, y1, 'go', markersize=8, label='P1')\n",
    "    \n",
    "    # Plot joint point\n",
    "    ax.plot(xj, yj, 'mo', markersize=8, label='Joint')\n",
    "    \n",
    "    # Plot end point\n",
    "    ax.plot(x2, y2, 'ko', markersize=8, label='P2')\n",
    "    \n",
    "    # Set equal aspect ratio and limits\n",
    "    ax.set_aspect('equal')\n",
    "    ax.set_xlim(-0.2, 0.2)\n",
    "    ax.set_ylim(-0.05, 0.2)\n",
    "    \n",
    "    # Add grid and legend\n",
    "    ax.grid(True)\n",
    "    ax.legend()\n",
    "    ax.set_xlabel('X')\n",
    "    ax.set_ylabel('Y')\n",
    "    ax.set_title('2D Linkage Visualization')\n",
    "    \n",
    "    # plt.close()\n",
    "    return fig\n",
    "\n",
    "# Create interactive widget\n",
    "interactive_plot = interactive(\n",
    "    plot_linkage,\n",
    "    th1=widgets.FloatSlider(min=-180, max=180, step=1, value=30, description='θ1 (deg)'),\n",
    "    th2=widgets.FloatSlider(min=-180, max=180, step=1, value=30, description='θ2 (deg)'),\n",
    "    r1=widgets.FloatSlider(min=0.01, max=0.20, step=0.01, value=0.06, description='r1'),\n",
    "    r2=widgets.FloatSlider(min=0.01, max=0.20, step=0.01, value=0.06, description='r2'),\n",
    "    rj=widgets.FloatSlider(min=0.01, max=0.20, step=0.01, value=0.10, description='rj')\n",
    ")\n",
    "\n",
    "# Display the interactive plot\n",
    "display(interactive_plot)"
   ]
  },
  {
   "cell_type": "code",
   "execution_count": 5,
   "metadata": {},
   "outputs": [
    {
     "data": {
      "text/latex": [
       "$\\displaystyle \\frac{I_{1} \\dot{θ_1}^{2}}{2} + \\frac{I_{2} \\left(\\dot{θ_1} + \\dot{θ_2}\\right)^{2}}{2} + \\frac{\\dot{θ_1}^{2} m_{1} r_{1}^{2}}{2} + \\frac{m_{2} \\left(\\dot{θ_1}^{2} r_{2}^{2} - 2 \\dot{θ_1}^{2} r_{2} r_{j} \\cos{\\left(θ_{2} \\right)} + \\dot{θ_1}^{2} r_{j}^{2} + 2 \\dot{θ_1} \\dot{θ_2} r_{2}^{2} - 2 \\dot{θ_1} \\dot{θ_2} r_{2} r_{j} \\cos{\\left(θ_{2} \\right)} + \\dot{θ_2}^{2} r_{2}^{2}\\right)}{2}$"
      ],
      "text/plain": [
       "I1*\\dot{θ_1}**2/2 + I2*(\\dot{θ_1} + \\dot{θ_2})**2/2 + \\dot{θ_1}**2*m1*r1**2/2 + m2*(\\dot{θ_1}**2*r2**2 - 2*\\dot{θ_1}**2*r2*r_j*cos(θ_2) + \\dot{θ_1}**2*r_j**2 + 2*\\dot{θ_1}*\\dot{θ_2}*r2**2 - 2*\\dot{θ_1}*\\dot{θ_2}*r2*r_j*cos(θ_2) + \\dot{θ_2}**2*r2**2)/2"
      ]
     },
     "metadata": {},
     "output_type": "display_data"
    },
    {
     "data": {
      "text/latex": [
       "$\\displaystyle g m_{1} r_{1} \\cos{\\left(θ_{1} \\right)} + g m_{2} \\left(- r_{2} \\cos{\\left(θ_{1} + θ_{2} \\right)} + r_{j} \\cos{\\left(θ_{1} \\right)}\\right)$"
      ],
      "text/plain": [
       "g*m1*r1*cos(θ_1) + g*m2*(-r2*cos(θ_1 + θ_2) + r_j*cos(θ_1))"
      ]
     },
     "metadata": {},
     "output_type": "display_data"
    },
    {
     "data": {
      "text/latex": [
       "$\\displaystyle \\frac{I_{1} \\dot{θ_1}^{2}}{2} + \\frac{I_{2} \\left(\\dot{θ_1} + \\dot{θ_2}\\right)^{2}}{2} + \\frac{\\dot{θ_1}^{2} m_{1} r_{1}^{2}}{2} - g m_{1} r_{1} \\cos{\\left(θ_{1} \\right)} + g m_{2} \\left(r_{2} \\cos{\\left(θ_{1} + θ_{2} \\right)} - r_{j} \\cos{\\left(θ_{1} \\right)}\\right) + \\frac{m_{2} \\left(\\dot{θ_1}^{2} r_{2}^{2} - 2 \\dot{θ_1}^{2} r_{2} r_{j} \\cos{\\left(θ_{2} \\right)} + \\dot{θ_1}^{2} r_{j}^{2} + 2 \\dot{θ_1} \\dot{θ_2} r_{2}^{2} - 2 \\dot{θ_1} \\dot{θ_2} r_{2} r_{j} \\cos{\\left(θ_{2} \\right)} + \\dot{θ_2}^{2} r_{2}^{2}\\right)}{2}$"
      ],
      "text/plain": [
       "I1*\\dot{θ_1}**2/2 + I2*(\\dot{θ_1} + \\dot{θ_2})**2/2 + \\dot{θ_1}**2*m1*r1**2/2 - g*m1*r1*cos(θ_1) + g*m2*(r2*cos(θ_1 + θ_2) - r_j*cos(θ_1)) + m2*(\\dot{θ_1}**2*r2**2 - 2*\\dot{θ_1}**2*r2*r_j*cos(θ_2) + \\dot{θ_1}**2*r_j**2 + 2*\\dot{θ_1}*\\dot{θ_2}*r2**2 - 2*\\dot{θ_1}*\\dot{θ_2}*r2*r_j*cos(θ_2) + \\dot{θ_2}**2*r2**2)/2"
      ]
     },
     "metadata": {},
     "output_type": "display_data"
    }
   ],
   "source": [
    "KE_lin = half*m1*(x1.diff(t)**2 + y1.diff(t)**2) + half*m2*(x2.diff(t)**2 + y2.diff(t)**2)\n",
    "KE_ang = half*I1*(th1.diff(t)**2) + half*I2*((th1 + th2).diff(t)**2)\n",
    "KE = simplify(KE_lin + KE_ang)\n",
    "\n",
    "PE = m1*g*y1 + m2*g*y2\n",
    "L = simplify(KE - PE)\n",
    "\n",
    "display(clean(KE), clean(PE), clean(L))"
   ]
  },
  {
   "cell_type": "code",
   "execution_count": 6,
   "metadata": {},
   "outputs": [
    {
     "data": {
      "text/latex": [
       "$\\displaystyle I_{1} \\ddot{θ_1} + \\frac{I_{2} \\left(2 \\ddot{θ_1} + 2 \\ddot{θ_2}\\right)}{2} + \\ddot{θ_1} m_{1} r_{1}^{2} - g m_{1} r_{1} \\sin{\\left(θ_{1} \\right)} - g m_{2} \\left(- r_{2} \\sin{\\left(θ_{1} + θ_{2} \\right)} + r_{j} \\sin{\\left(θ_{1} \\right)}\\right) + \\frac{m_{2} \\left(2 \\ddot{θ_1} r_{2}^{2} - 4 \\ddot{θ_1} r_{2} r_{j} \\cos{\\left(θ_{2} \\right)} + 2 \\ddot{θ_1} r_{j}^{2} + 2 \\ddot{θ_2} r_{2}^{2} - 2 \\ddot{θ_2} r_{2} r_{j} \\cos{\\left(θ_{2} \\right)} + 4 \\dot{θ_1} \\dot{θ_2} r_{2} r_{j} \\sin{\\left(θ_{2} \\right)} + 2 \\dot{θ_2}^{2} r_{2} r_{j} \\sin{\\left(θ_{2} \\right)}\\right)}{2} = 0$"
      ],
      "text/plain": [
       "Eq(I1*\\ddot{θ_1} + I2*(2*\\ddot{θ_1} + 2*\\ddot{θ_2})/2 + \\ddot{θ_1}*m1*r1**2 - g*m1*r1*sin(θ_1) - g*m2*(-r2*sin(θ_1 + θ_2) + r_j*sin(θ_1)) + m2*(2*\\ddot{θ_1}*r2**2 - 4*\\ddot{θ_1}*r2*r_j*cos(θ_2) + 2*\\ddot{θ_1}*r_j**2 + 2*\\ddot{θ_2}*r2**2 - 2*\\ddot{θ_2}*r2*r_j*cos(θ_2) + 4*\\dot{θ_1}*\\dot{θ_2}*r2*r_j*sin(θ_2) + 2*\\dot{θ_2}**2*r2*r_j*sin(θ_2))/2, 0)"
      ]
     },
     "metadata": {},
     "output_type": "display_data"
    },
    {
     "data": {
      "text/latex": [
       "$\\displaystyle \\frac{I_{2} \\left(2 \\ddot{θ_1} + 2 \\ddot{θ_2}\\right)}{2} + g m_{2} r_{2} \\sin{\\left(θ_{1} + θ_{2} \\right)} - \\frac{m_{2} \\left(2 \\dot{θ_1}^{2} r_{2} r_{j} \\sin{\\left(θ_{2} \\right)} + 2 \\dot{θ_1} \\dot{θ_2} r_{2} r_{j} \\sin{\\left(θ_{2} \\right)}\\right)}{2} + \\frac{m_{2} \\left(2 \\ddot{θ_1} r_{2}^{2} - 2 \\ddot{θ_1} r_{2} r_{j} \\cos{\\left(θ_{2} \\right)} + 2 \\ddot{θ_2} r_{2}^{2} + 2 \\dot{θ_1} \\dot{θ_2} r_{2} r_{j} \\sin{\\left(θ_{2} \\right)}\\right)}{2} = \\tau$"
      ],
      "text/plain": [
       "Eq(I2*(2*\\ddot{θ_1} + 2*\\ddot{θ_2})/2 + g*m2*r2*sin(θ_1 + θ_2) - m2*(2*\\dot{θ_1}**2*r2*r_j*sin(θ_2) + 2*\\dot{θ_1}*\\dot{θ_2}*r2*r_j*sin(θ_2))/2 + m2*(2*\\ddot{θ_1}*r2**2 - 2*\\ddot{θ_1}*r2*r_j*cos(θ_2) + 2*\\ddot{θ_2}*r2**2 + 2*\\dot{θ_1}*\\dot{θ_2}*r2*r_j*sin(θ_2))/2, tau)"
      ]
     },
     "metadata": {},
     "output_type": "display_data"
    }
   ],
   "source": [
    "#Euler-Lagrange\n",
    "tau = symbols('tau')\n",
    "Eq_th1 = clean(Eq(diff(diff(L, diff(th1)), t) - diff(L, th1), 0))\n",
    "Eq_th2 = clean(Eq(diff(diff(L, diff(th2)), t) - diff(L, th2), tau))\n",
    "\n",
    "display(Eq_th1, Eq_th2)"
   ]
  },
  {
   "cell_type": "code",
   "execution_count": 7,
   "metadata": {},
   "outputs": [
    {
     "data": {
      "text/latex": [
       "$\\displaystyle \\frac{- I_{2} \\ddot{θ_2} - \\ddot{θ_2} m_{2} r_{2}^{2} + \\ddot{θ_2} m_{2} r_{2} r_{j} \\cos{\\left(θ_{2} \\right)} - 2 \\dot{θ_1} \\dot{θ_2} m_{2} r_{2} r_{j} \\sin{\\left(θ_{2} \\right)} - \\dot{θ_2}^{2} m_{2} r_{2} r_{j} \\sin{\\left(θ_{2} \\right)} + g m_{1} r_{1} \\sin{\\left(θ_{1} \\right)} - g m_{2} r_{2} \\sin{\\left(θ_{1} + θ_{2} \\right)} + g m_{2} r_{j} \\sin{\\left(θ_{1} \\right)}}{I_{1} + I_{2} + m_{1} r_{1}^{2} + m_{2} r_{2}^{2} - 2 m_{2} r_{2} r_{j} \\cos{\\left(θ_{2} \\right)} + m_{2} r_{j}^{2}}$"
      ],
      "text/plain": [
       "(-I2*\\ddot{θ_2} - \\ddot{θ_2}*m2*r2**2 + \\ddot{θ_2}*m2*r2*r_j*cos(θ_2) - 2*\\dot{θ_1}*\\dot{θ_2}*m2*r2*r_j*sin(θ_2) - \\dot{θ_2}**2*m2*r2*r_j*sin(θ_2) + g*m1*r1*sin(θ_1) - g*m2*r2*sin(θ_1 + θ_2) + g*m2*r_j*sin(θ_1))/(I1 + I2 + m1*r1**2 + m2*r2**2 - 2*m2*r2*r_j*cos(θ_2) + m2*r_j**2)"
      ]
     },
     "execution_count": 7,
     "metadata": {},
     "output_type": "execute_result"
    }
   ],
   "source": [
    "# solve for ddth1 in terms of ddth2 using Eq1\n",
    "ddth1 = symbols('\\\\ddot{θ_1}')\n",
    "ddth2 = symbols('\\\\ddot{θ_2}')\n",
    "sol = solve([Eq_th1], ddth1)\n",
    "ddth1_sol = simplify(sol[ddth1])\n",
    "ddth1_sol"
   ]
  },
  {
   "cell_type": "code",
   "execution_count": 8,
   "metadata": {},
   "outputs": [
    {
     "data": {
      "text/latex": [
       "$\\displaystyle \\frac{I_{1} \\dot{θ_1}^{2} m_{2} r_{2} r_{j} \\sin{\\left(θ_{2} \\right)} - I_{1} g m_{2} r_{2} \\sin{\\left(θ_{1} + θ_{2} \\right)} + I_{1} \\tau + I_{2} \\dot{θ_1}^{2} m_{2} r_{2} r_{j} \\sin{\\left(θ_{2} \\right)} + 2 I_{2} \\dot{θ_1} \\dot{θ_2} m_{2} r_{2} r_{j} \\sin{\\left(θ_{2} \\right)} + I_{2} \\dot{θ_2}^{2} m_{2} r_{2} r_{j} \\sin{\\left(θ_{2} \\right)} - I_{2} g m_{1} r_{1} \\sin{\\left(θ_{1} \\right)} - I_{2} g m_{2} r_{j} \\sin{\\left(θ_{1} \\right)} + I_{2} \\tau + \\dot{θ_1}^{2} m_{1} m_{2} r_{1}^{2} r_{2} r_{j} \\sin{\\left(θ_{2} \\right)} + \\dot{θ_1}^{2} m_{2}^{2} r_{2}^{3} r_{j} \\sin{\\left(θ_{2} \\right)} - \\dot{θ_1}^{2} m_{2}^{2} r_{2}^{2} r_{j}^{2} \\sin{\\left(2 θ_{2} \\right)} + \\dot{θ_1}^{2} m_{2}^{2} r_{2} r_{j}^{3} \\sin{\\left(θ_{2} \\right)} + 2 \\dot{θ_1} \\dot{θ_2} m_{2}^{2} r_{2}^{3} r_{j} \\sin{\\left(θ_{2} \\right)} - \\dot{θ_1} \\dot{θ_2} m_{2}^{2} r_{2}^{2} r_{j}^{2} \\sin{\\left(2 θ_{2} \\right)} + \\dot{θ_2}^{2} m_{2}^{2} r_{2}^{3} r_{j} \\sin{\\left(θ_{2} \\right)} - \\frac{\\dot{θ_2}^{2} m_{2}^{2} r_{2}^{2} r_{j}^{2} \\sin{\\left(2 θ_{2} \\right)}}{2} - g m_{1} m_{2} r_{1}^{2} r_{2} \\sin{\\left(θ_{1} + θ_{2} \\right)} - g m_{1} m_{2} r_{1} r_{2}^{2} \\sin{\\left(θ_{1} \\right)} + \\frac{g m_{1} m_{2} r_{1} r_{2} r_{j} \\sin{\\left(θ_{1} - θ_{2} \\right)}}{2} + \\frac{g m_{1} m_{2} r_{1} r_{2} r_{j} \\sin{\\left(θ_{1} + θ_{2} \\right)}}{2} - \\frac{g m_{2}^{2} r_{2}^{2} r_{j} \\sin{\\left(θ_{1} \\right)}}{2} + \\frac{g m_{2}^{2} r_{2}^{2} r_{j} \\sin{\\left(θ_{1} + 2 θ_{2} \\right)}}{2} + \\frac{g m_{2}^{2} r_{2} r_{j}^{2} \\sin{\\left(θ_{1} - θ_{2} \\right)}}{2} - \\frac{g m_{2}^{2} r_{2} r_{j}^{2} \\sin{\\left(θ_{1} + θ_{2} \\right)}}{2} + m_{1} r_{1}^{2} \\tau + m_{2} r_{2}^{2} \\tau - 2 m_{2} r_{2} r_{j} \\tau \\cos{\\left(θ_{2} \\right)} + m_{2} r_{j}^{2} \\tau}{I_{1} I_{2} + I_{1} m_{2} r_{2}^{2} + I_{2} m_{1} r_{1}^{2} + I_{2} m_{2} r_{j}^{2} + m_{1} m_{2} r_{1}^{2} r_{2}^{2} + m_{2}^{2} r_{2}^{2} r_{j}^{2} \\sin^{2}{\\left(θ_{2} \\right)}}$"
      ],
      "text/plain": [
       "(I1*\\dot{θ_1}**2*m2*r2*r_j*sin(θ_2) - I1*g*m2*r2*sin(θ_1 + θ_2) + I1*tau + I2*\\dot{θ_1}**2*m2*r2*r_j*sin(θ_2) + 2*I2*\\dot{θ_1}*\\dot{θ_2}*m2*r2*r_j*sin(θ_2) + I2*\\dot{θ_2}**2*m2*r2*r_j*sin(θ_2) - I2*g*m1*r1*sin(θ_1) - I2*g*m2*r_j*sin(θ_1) + I2*tau + \\dot{θ_1}**2*m1*m2*r1**2*r2*r_j*sin(θ_2) + \\dot{θ_1}**2*m2**2*r2**3*r_j*sin(θ_2) - \\dot{θ_1}**2*m2**2*r2**2*r_j**2*sin(2*θ_2) + \\dot{θ_1}**2*m2**2*r2*r_j**3*sin(θ_2) + 2*\\dot{θ_1}*\\dot{θ_2}*m2**2*r2**3*r_j*sin(θ_2) - \\dot{θ_1}*\\dot{θ_2}*m2**2*r2**2*r_j**2*sin(2*θ_2) + \\dot{θ_2}**2*m2**2*r2**3*r_j*sin(θ_2) - \\dot{θ_2}**2*m2**2*r2**2*r_j**2*sin(2*θ_2)/2 - g*m1*m2*r1**2*r2*sin(θ_1 + θ_2) - g*m1*m2*r1*r2**2*sin(θ_1) + g*m1*m2*r1*r2*r_j*sin(θ_1 - θ_2)/2 + g*m1*m2*r1*r2*r_j*sin(θ_1 + θ_2)/2 - g*m2**2*r2**2*r_j*sin(θ_1)/2 + g*m2**2*r2**2*r_j*sin(θ_1 + 2*θ_2)/2 + g*m2**2*r2*r_j**2*sin(θ_1 - θ_2)/2 - g*m2**2*r2*r_j**2*sin(θ_1 + θ_2)/2 + m1*r1**2*tau + m2*r2**2*tau - 2*m2*r2*r_j*tau*cos(θ_2) + m2*r_j**2*tau)/(I1*I2 + I1*m2*r2**2 + I2*m1*r1**2 + I2*m2*r_j**2 + m1*m2*r1**2*r2**2 + m2**2*r2**2*r_j**2*sin(θ_2)**2)"
      ]
     },
     "execution_count": 8,
     "metadata": {},
     "output_type": "execute_result"
    }
   ],
   "source": [
    "# substitute into Eq2, solve for ddth2\n",
    "Eq_th2 = Eq_th2.subs({ddth1:ddth1_sol})\n",
    "sol = solve([Eq_th2], ddth2)\n",
    "ddth2_sol = simplify(sol[ddth2])\n",
    "ddth2_sol"
   ]
  },
  {
   "cell_type": "code",
   "execution_count": 9,
   "metadata": {},
   "outputs": [
    {
     "data": {
      "text/latex": [
       "$\\displaystyle \\frac{- I_{1} I_{2} \\dot{θ_1}^{2} m_{2} r_{2} r_{j} \\sin{\\left(θ_{2} \\right)} - 2 I_{1} I_{2} \\dot{θ_1} \\dot{θ_2} m_{2} r_{2} r_{j} \\sin{\\left(θ_{2} \\right)} - I_{1} I_{2} \\dot{θ_2}^{2} m_{2} r_{2} r_{j} \\sin{\\left(θ_{2} \\right)} + I_{1} I_{2} g m_{1} r_{1} \\sin{\\left(θ_{1} \\right)} + I_{1} I_{2} g m_{2} r_{j} \\sin{\\left(θ_{1} \\right)} - I_{1} I_{2} \\tau - I_{1} \\dot{θ_1}^{2} m_{2}^{2} r_{2}^{3} r_{j} \\sin{\\left(θ_{2} \\right)} + \\frac{I_{1} \\dot{θ_1}^{2} m_{2}^{2} r_{2}^{2} r_{j}^{2} \\sin{\\left(2 θ_{2} \\right)}}{2} - 2 I_{1} \\dot{θ_1} \\dot{θ_2} m_{2}^{2} r_{2}^{3} r_{j} \\sin{\\left(θ_{2} \\right)} - I_{1} \\dot{θ_2}^{2} m_{2}^{2} r_{2}^{3} r_{j} \\sin{\\left(θ_{2} \\right)} + I_{1} g m_{1} m_{2} r_{1} r_{2}^{2} \\sin{\\left(θ_{1} \\right)} + \\frac{I_{1} g m_{2}^{2} r_{2}^{2} r_{j} \\sin{\\left(θ_{1} \\right)}}{2} - \\frac{I_{1} g m_{2}^{2} r_{2}^{2} r_{j} \\sin{\\left(θ_{1} + 2 θ_{2} \\right)}}{2} - I_{1} m_{2} r_{2}^{2} \\tau + I_{1} m_{2} r_{2} r_{j} \\tau \\cos{\\left(θ_{2} \\right)} - I_{2}^{2} \\dot{θ_1}^{2} m_{2} r_{2} r_{j} \\sin{\\left(θ_{2} \\right)} - 2 I_{2}^{2} \\dot{θ_1} \\dot{θ_2} m_{2} r_{2} r_{j} \\sin{\\left(θ_{2} \\right)} - I_{2}^{2} \\dot{θ_2}^{2} m_{2} r_{2} r_{j} \\sin{\\left(θ_{2} \\right)} + I_{2}^{2} g m_{1} r_{1} \\sin{\\left(θ_{1} \\right)} + I_{2}^{2} g m_{2} r_{j} \\sin{\\left(θ_{1} \\right)} - I_{2}^{2} \\tau - I_{2} \\dot{θ_1}^{2} m_{1} m_{2} r_{1}^{2} r_{2} r_{j} \\sin{\\left(θ_{2} \\right)} - 2 I_{2} \\dot{θ_1}^{2} m_{2}^{2} r_{2}^{3} r_{j} \\sin{\\left(θ_{2} \\right)} + \\frac{3 I_{2} \\dot{θ_1}^{2} m_{2}^{2} r_{2}^{2} r_{j}^{2} \\sin{\\left(2 θ_{2} \\right)}}{2} - I_{2} \\dot{θ_1}^{2} m_{2}^{2} r_{2} r_{j}^{3} \\sin{\\left(θ_{2} \\right)} - 2 I_{2} \\dot{θ_1} \\dot{θ_2} m_{1} m_{2} r_{1}^{2} r_{2} r_{j} \\sin{\\left(θ_{2} \\right)} - 4 I_{2} \\dot{θ_1} \\dot{θ_2} m_{2}^{2} r_{2}^{3} r_{j} \\sin{\\left(θ_{2} \\right)} + 2 I_{2} \\dot{θ_1} \\dot{θ_2} m_{2}^{2} r_{2}^{2} r_{j}^{2} \\sin{\\left(2 θ_{2} \\right)} - 2 I_{2} \\dot{θ_1} \\dot{θ_2} m_{2}^{2} r_{2} r_{j}^{3} \\sin{\\left(θ_{2} \\right)} - I_{2} \\dot{θ_2}^{2} m_{1} m_{2} r_{1}^{2} r_{2} r_{j} \\sin{\\left(θ_{2} \\right)} - 2 I_{2} \\dot{θ_2}^{2} m_{2}^{2} r_{2}^{3} r_{j} \\sin{\\left(θ_{2} \\right)} + I_{2} \\dot{θ_2}^{2} m_{2}^{2} r_{2}^{2} r_{j}^{2} \\sin{\\left(2 θ_{2} \\right)} - I_{2} \\dot{θ_2}^{2} m_{2}^{2} r_{2} r_{j}^{3} \\sin{\\left(θ_{2} \\right)} + I_{2} g m_{1}^{2} r_{1}^{3} \\sin{\\left(θ_{1} \\right)} + I_{2} g m_{1} m_{2} r_{1}^{2} r_{j} \\sin{\\left(θ_{1} \\right)} + 2 I_{2} g m_{1} m_{2} r_{1} r_{2}^{2} \\sin{\\left(θ_{1} \\right)} - I_{2} g m_{1} m_{2} r_{1} r_{2} r_{j} \\sin{\\left(θ_{1} - θ_{2} \\right)} - I_{2} g m_{1} m_{2} r_{1} r_{2} r_{j} \\sin{\\left(θ_{1} + θ_{2} \\right)} + I_{2} g m_{1} m_{2} r_{1} r_{j}^{2} \\sin{\\left(θ_{1} \\right)} + \\frac{3 I_{2} g m_{2}^{2} r_{2}^{2} r_{j} \\sin{\\left(θ_{1} \\right)}}{2} - \\frac{I_{2} g m_{2}^{2} r_{2}^{2} r_{j} \\sin{\\left(θ_{1} + 2 θ_{2} \\right)}}{2} - I_{2} g m_{2}^{2} r_{2} r_{j}^{2} \\sin{\\left(θ_{1} - θ_{2} \\right)} - I_{2} g m_{2}^{2} r_{2} r_{j}^{2} \\sin{\\left(θ_{1} + θ_{2} \\right)} + I_{2} g m_{2}^{2} r_{j}^{3} \\sin{\\left(θ_{1} \\right)} - I_{2} m_{1} r_{1}^{2} \\tau - 2 I_{2} m_{2} r_{2}^{2} \\tau + 3 I_{2} m_{2} r_{2} r_{j} \\tau \\cos{\\left(θ_{2} \\right)} - I_{2} m_{2} r_{j}^{2} \\tau - \\dot{θ_1}^{2} m_{1} m_{2}^{2} r_{1}^{2} r_{2}^{3} r_{j} \\sin{\\left(θ_{2} \\right)} + \\frac{\\dot{θ_1}^{2} m_{1} m_{2}^{2} r_{1}^{2} r_{2}^{2} r_{j}^{2} \\sin{\\left(2 θ_{2} \\right)}}{2} - \\dot{θ_1}^{2} m_{2}^{3} r_{2}^{5} r_{j} \\sin{\\left(θ_{2} \\right)} + \\frac{3 \\dot{θ_1}^{2} m_{2}^{3} r_{2}^{4} r_{j}^{2} \\sin{\\left(2 θ_{2} \\right)}}{2} - \\frac{3 \\dot{θ_1}^{2} m_{2}^{3} r_{2}^{3} r_{j}^{3} \\sin{\\left(θ_{2} \\right)}}{2} - \\frac{\\dot{θ_1}^{2} m_{2}^{3} r_{2}^{3} r_{j}^{3} \\sin{\\left(3 θ_{2} \\right)}}{2} + \\frac{\\dot{θ_1}^{2} m_{2}^{3} r_{2}^{2} r_{j}^{4} \\sin{\\left(2 θ_{2} \\right)}}{2} - 2 \\dot{θ_1} \\dot{θ_2} m_{1} m_{2}^{2} r_{1}^{2} r_{2}^{3} r_{j} \\sin{\\left(θ_{2} \\right)} - 2 \\dot{θ_1} \\dot{θ_2} m_{2}^{3} r_{2}^{5} r_{j} \\sin{\\left(θ_{2} \\right)} + 2 \\dot{θ_1} \\dot{θ_2} m_{2}^{3} r_{2}^{4} r_{j}^{2} \\sin{\\left(2 θ_{2} \\right)} - 2 \\dot{θ_1} \\dot{θ_2} m_{2}^{3} r_{2}^{3} r_{j}^{3} \\sin{\\left(θ_{2} \\right)} - \\dot{θ_2}^{2} m_{1} m_{2}^{2} r_{1}^{2} r_{2}^{3} r_{j} \\sin{\\left(θ_{2} \\right)} - \\dot{θ_2}^{2} m_{2}^{3} r_{2}^{5} r_{j} \\sin{\\left(θ_{2} \\right)} + \\dot{θ_2}^{2} m_{2}^{3} r_{2}^{4} r_{j}^{2} \\sin{\\left(2 θ_{2} \\right)} - \\dot{θ_2}^{2} m_{2}^{3} r_{2}^{3} r_{j}^{3} \\sin{\\left(θ_{2} \\right)} + g m_{1}^{2} m_{2} r_{1}^{3} r_{2}^{2} \\sin{\\left(θ_{1} \\right)} + \\frac{g m_{1} m_{2}^{2} r_{1}^{2} r_{2}^{2} r_{j} \\sin{\\left(θ_{1} \\right)}}{2} - \\frac{g m_{1} m_{2}^{2} r_{1}^{2} r_{2}^{2} r_{j} \\sin{\\left(θ_{1} + 2 θ_{2} \\right)}}{2} + g m_{1} m_{2}^{2} r_{1} r_{2}^{4} \\sin{\\left(θ_{1} \\right)} - g m_{1} m_{2}^{2} r_{1} r_{2}^{3} r_{j} \\sin{\\left(θ_{1} - θ_{2} \\right)} - g m_{1} m_{2}^{2} r_{1} r_{2}^{3} r_{j} \\sin{\\left(θ_{1} + θ_{2} \\right)} + g m_{1} m_{2}^{2} r_{1} r_{2}^{2} r_{j}^{2} \\sin{\\left(θ_{1} \\right)} + \\frac{g m_{2}^{3} r_{2}^{4} r_{j} \\sin{\\left(θ_{1} \\right)}}{2} - \\frac{g m_{2}^{3} r_{2}^{4} r_{j} \\sin{\\left(θ_{1} + 2 θ_{2} \\right)}}{2} - \\frac{g m_{2}^{3} r_{2}^{3} r_{j}^{2} \\sin{\\left(θ_{1} - θ_{2} \\right)}}{2} + \\frac{g m_{2}^{3} r_{2}^{3} r_{j}^{2} \\sin{\\left(θ_{1} + 3 θ_{2} \\right)}}{2} + \\frac{g m_{2}^{3} r_{2}^{2} r_{j}^{3} \\sin{\\left(θ_{1} \\right)}}{2} - \\frac{g m_{2}^{3} r_{2}^{2} r_{j}^{3} \\sin{\\left(θ_{1} + 2 θ_{2} \\right)}}{2} - m_{1} m_{2} r_{1}^{2} r_{2}^{2} \\tau + m_{1} m_{2} r_{1}^{2} r_{2} r_{j} \\tau \\cos{\\left(θ_{2} \\right)} - m_{2}^{2} r_{2}^{4} \\tau + 3 m_{2}^{2} r_{2}^{3} r_{j} \\tau \\cos{\\left(θ_{2} \\right)} - m_{2}^{2} r_{2}^{2} r_{j}^{2} \\tau \\cos{\\left(2 θ_{2} \\right)} - 2 m_{2}^{2} r_{2}^{2} r_{j}^{2} \\tau + m_{2}^{2} r_{2} r_{j}^{3} \\tau \\cos{\\left(θ_{2} \\right)}}{I_{1}^{2} I_{2} + I_{1}^{2} m_{2} r_{2}^{2} + I_{1} I_{2}^{2} + 2 I_{1} I_{2} m_{1} r_{1}^{2} + 2 I_{1} I_{2} m_{2} r_{2}^{2} - 2 I_{1} I_{2} m_{2} r_{2} r_{j} \\cos{\\left(θ_{2} \\right)} + 2 I_{1} I_{2} m_{2} r_{j}^{2} + 2 I_{1} m_{1} m_{2} r_{1}^{2} r_{2}^{2} + I_{1} m_{2}^{2} r_{2}^{4} - 2 I_{1} m_{2}^{2} r_{2}^{3} r_{j} \\cos{\\left(θ_{2} \\right)} + I_{1} m_{2}^{2} r_{2}^{2} r_{j}^{2} \\sin^{2}{\\left(θ_{2} \\right)} + I_{1} m_{2}^{2} r_{2}^{2} r_{j}^{2} + I_{2}^{2} m_{1} r_{1}^{2} + I_{2}^{2} m_{2} r_{j}^{2} + I_{2} m_{1}^{2} r_{1}^{4} + 2 I_{2} m_{1} m_{2} r_{1}^{2} r_{2}^{2} - 2 I_{2} m_{1} m_{2} r_{1}^{2} r_{2} r_{j} \\cos{\\left(θ_{2} \\right)} + 2 I_{2} m_{1} m_{2} r_{1}^{2} r_{j}^{2} + I_{2} m_{2}^{2} r_{2}^{2} r_{j}^{2} \\sin^{2}{\\left(θ_{2} \\right)} + I_{2} m_{2}^{2} r_{2}^{2} r_{j}^{2} - 2 I_{2} m_{2}^{2} r_{2} r_{j}^{3} \\cos{\\left(θ_{2} \\right)} + I_{2} m_{2}^{2} r_{j}^{4} + m_{1}^{2} m_{2} r_{1}^{4} r_{2}^{2} + m_{1} m_{2}^{2} r_{1}^{2} r_{2}^{4} - 2 m_{1} m_{2}^{2} r_{1}^{2} r_{2}^{3} r_{j} \\cos{\\left(θ_{2} \\right)} + m_{1} m_{2}^{2} r_{1}^{2} r_{2}^{2} r_{j}^{2} \\sin^{2}{\\left(θ_{2} \\right)} + m_{1} m_{2}^{2} r_{1}^{2} r_{2}^{2} r_{j}^{2} + m_{2}^{3} r_{2}^{4} r_{j}^{2} \\sin^{2}{\\left(θ_{2} \\right)} - 2 m_{2}^{3} r_{2}^{3} r_{j}^{3} \\sin^{2}{\\left(θ_{2} \\right)} \\cos{\\left(θ_{2} \\right)} + m_{2}^{3} r_{2}^{2} r_{j}^{4} \\sin^{2}{\\left(θ_{2} \\right)}}$"
      ],
      "text/plain": [
       "(-I1*I2*\\dot{θ_1}**2*m2*r2*r_j*sin(θ_2) - 2*I1*I2*\\dot{θ_1}*\\dot{θ_2}*m2*r2*r_j*sin(θ_2) - I1*I2*\\dot{θ_2}**2*m2*r2*r_j*sin(θ_2) + I1*I2*g*m1*r1*sin(θ_1) + I1*I2*g*m2*r_j*sin(θ_1) - I1*I2*tau - I1*\\dot{θ_1}**2*m2**2*r2**3*r_j*sin(θ_2) + I1*\\dot{θ_1}**2*m2**2*r2**2*r_j**2*sin(2*θ_2)/2 - 2*I1*\\dot{θ_1}*\\dot{θ_2}*m2**2*r2**3*r_j*sin(θ_2) - I1*\\dot{θ_2}**2*m2**2*r2**3*r_j*sin(θ_2) + I1*g*m1*m2*r1*r2**2*sin(θ_1) + I1*g*m2**2*r2**2*r_j*sin(θ_1)/2 - I1*g*m2**2*r2**2*r_j*sin(θ_1 + 2*θ_2)/2 - I1*m2*r2**2*tau + I1*m2*r2*r_j*tau*cos(θ_2) - I2**2*\\dot{θ_1}**2*m2*r2*r_j*sin(θ_2) - 2*I2**2*\\dot{θ_1}*\\dot{θ_2}*m2*r2*r_j*sin(θ_2) - I2**2*\\dot{θ_2}**2*m2*r2*r_j*sin(θ_2) + I2**2*g*m1*r1*sin(θ_1) + I2**2*g*m2*r_j*sin(θ_1) - I2**2*tau - I2*\\dot{θ_1}**2*m1*m2*r1**2*r2*r_j*sin(θ_2) - 2*I2*\\dot{θ_1}**2*m2**2*r2**3*r_j*sin(θ_2) + 3*I2*\\dot{θ_1}**2*m2**2*r2**2*r_j**2*sin(2*θ_2)/2 - I2*\\dot{θ_1}**2*m2**2*r2*r_j**3*sin(θ_2) - 2*I2*\\dot{θ_1}*\\dot{θ_2}*m1*m2*r1**2*r2*r_j*sin(θ_2) - 4*I2*\\dot{θ_1}*\\dot{θ_2}*m2**2*r2**3*r_j*sin(θ_2) + 2*I2*\\dot{θ_1}*\\dot{θ_2}*m2**2*r2**2*r_j**2*sin(2*θ_2) - 2*I2*\\dot{θ_1}*\\dot{θ_2}*m2**2*r2*r_j**3*sin(θ_2) - I2*\\dot{θ_2}**2*m1*m2*r1**2*r2*r_j*sin(θ_2) - 2*I2*\\dot{θ_2}**2*m2**2*r2**3*r_j*sin(θ_2) + I2*\\dot{θ_2}**2*m2**2*r2**2*r_j**2*sin(2*θ_2) - I2*\\dot{θ_2}**2*m2**2*r2*r_j**3*sin(θ_2) + I2*g*m1**2*r1**3*sin(θ_1) + I2*g*m1*m2*r1**2*r_j*sin(θ_1) + 2*I2*g*m1*m2*r1*r2**2*sin(θ_1) - I2*g*m1*m2*r1*r2*r_j*sin(θ_1 - θ_2) - I2*g*m1*m2*r1*r2*r_j*sin(θ_1 + θ_2) + I2*g*m1*m2*r1*r_j**2*sin(θ_1) + 3*I2*g*m2**2*r2**2*r_j*sin(θ_1)/2 - I2*g*m2**2*r2**2*r_j*sin(θ_1 + 2*θ_2)/2 - I2*g*m2**2*r2*r_j**2*sin(θ_1 - θ_2) - I2*g*m2**2*r2*r_j**2*sin(θ_1 + θ_2) + I2*g*m2**2*r_j**3*sin(θ_1) - I2*m1*r1**2*tau - 2*I2*m2*r2**2*tau + 3*I2*m2*r2*r_j*tau*cos(θ_2) - I2*m2*r_j**2*tau - \\dot{θ_1}**2*m1*m2**2*r1**2*r2**3*r_j*sin(θ_2) + \\dot{θ_1}**2*m1*m2**2*r1**2*r2**2*r_j**2*sin(2*θ_2)/2 - \\dot{θ_1}**2*m2**3*r2**5*r_j*sin(θ_2) + 3*\\dot{θ_1}**2*m2**3*r2**4*r_j**2*sin(2*θ_2)/2 - 3*\\dot{θ_1}**2*m2**3*r2**3*r_j**3*sin(θ_2)/2 - \\dot{θ_1}**2*m2**3*r2**3*r_j**3*sin(3*θ_2)/2 + \\dot{θ_1}**2*m2**3*r2**2*r_j**4*sin(2*θ_2)/2 - 2*\\dot{θ_1}*\\dot{θ_2}*m1*m2**2*r1**2*r2**3*r_j*sin(θ_2) - 2*\\dot{θ_1}*\\dot{θ_2}*m2**3*r2**5*r_j*sin(θ_2) + 2*\\dot{θ_1}*\\dot{θ_2}*m2**3*r2**4*r_j**2*sin(2*θ_2) - 2*\\dot{θ_1}*\\dot{θ_2}*m2**3*r2**3*r_j**3*sin(θ_2) - \\dot{θ_2}**2*m1*m2**2*r1**2*r2**3*r_j*sin(θ_2) - \\dot{θ_2}**2*m2**3*r2**5*r_j*sin(θ_2) + \\dot{θ_2}**2*m2**3*r2**4*r_j**2*sin(2*θ_2) - \\dot{θ_2}**2*m2**3*r2**3*r_j**3*sin(θ_2) + g*m1**2*m2*r1**3*r2**2*sin(θ_1) + g*m1*m2**2*r1**2*r2**2*r_j*sin(θ_1)/2 - g*m1*m2**2*r1**2*r2**2*r_j*sin(θ_1 + 2*θ_2)/2 + g*m1*m2**2*r1*r2**4*sin(θ_1) - g*m1*m2**2*r1*r2**3*r_j*sin(θ_1 - θ_2) - g*m1*m2**2*r1*r2**3*r_j*sin(θ_1 + θ_2) + g*m1*m2**2*r1*r2**2*r_j**2*sin(θ_1) + g*m2**3*r2**4*r_j*sin(θ_1)/2 - g*m2**3*r2**4*r_j*sin(θ_1 + 2*θ_2)/2 - g*m2**3*r2**3*r_j**2*sin(θ_1 - θ_2)/2 + g*m2**3*r2**3*r_j**2*sin(θ_1 + 3*θ_2)/2 + g*m2**3*r2**2*r_j**3*sin(θ_1)/2 - g*m2**3*r2**2*r_j**3*sin(θ_1 + 2*θ_2)/2 - m1*m2*r1**2*r2**2*tau + m1*m2*r1**2*r2*r_j*tau*cos(θ_2) - m2**2*r2**4*tau + 3*m2**2*r2**3*r_j*tau*cos(θ_2) - m2**2*r2**2*r_j**2*tau*cos(2*θ_2) - 2*m2**2*r2**2*r_j**2*tau + m2**2*r2*r_j**3*tau*cos(θ_2))/(I1**2*I2 + I1**2*m2*r2**2 + I1*I2**2 + 2*I1*I2*m1*r1**2 + 2*I1*I2*m2*r2**2 - 2*I1*I2*m2*r2*r_j*cos(θ_2) + 2*I1*I2*m2*r_j**2 + 2*I1*m1*m2*r1**2*r2**2 + I1*m2**2*r2**4 - 2*I1*m2**2*r2**3*r_j*cos(θ_2) + I1*m2**2*r2**2*r_j**2*sin(θ_2)**2 + I1*m2**2*r2**2*r_j**2 + I2**2*m1*r1**2 + I2**2*m2*r_j**2 + I2*m1**2*r1**4 + 2*I2*m1*m2*r1**2*r2**2 - 2*I2*m1*m2*r1**2*r2*r_j*cos(θ_2) + 2*I2*m1*m2*r1**2*r_j**2 + I2*m2**2*r2**2*r_j**2*sin(θ_2)**2 + I2*m2**2*r2**2*r_j**2 - 2*I2*m2**2*r2*r_j**3*cos(θ_2) + I2*m2**2*r_j**4 + m1**2*m2*r1**4*r2**2 + m1*m2**2*r1**2*r2**4 - 2*m1*m2**2*r1**2*r2**3*r_j*cos(θ_2) + m1*m2**2*r1**2*r2**2*r_j**2*sin(θ_2)**2 + m1*m2**2*r1**2*r2**2*r_j**2 + m2**3*r2**4*r_j**2*sin(θ_2)**2 - 2*m2**3*r2**3*r_j**3*sin(θ_2)**2*cos(θ_2) + m2**3*r2**2*r_j**4*sin(θ_2)**2)"
      ]
     },
     "execution_count": 9,
     "metadata": {},
     "output_type": "execute_result"
    }
   ],
   "source": [
    "# substitute back into Eq1, solve for ddth1\n",
    "Eq_th1 = Eq_th1.subs({ddth2:simplify(ddth2_sol)})\n",
    "sol = solve([Eq_th1], ddth1)\n",
    "ddth1_sol = simplify(sol[ddth1])\n",
    "ddth1_sol"
   ]
  },
  {
   "cell_type": "code",
   "execution_count": 10,
   "metadata": {},
   "outputs": [
    {
     "name": "stdout",
     "output_type": "stream",
     "text": [
      "# 352 operations\n",
      "x0 = I2**2\n",
      "x1 = I1**2\n",
      "x2 = m2**2\n",
      "x3 = r2**4\n",
      "x4 = x2*x3\n",
      "x5 = r2**2\n",
      "x6 = m2*x5\n",
      "x7 = m1**2\n",
      "x8 = r1**4*x7\n",
      "x9 = r_j**4\n",
      "x10 = I2*x2\n",
      "x11 = r1**2\n",
      "x12 = m1*x11\n",
      "x13 = r_j**2\n",
      "x14 = m2*x13\n",
      "x15 = I1*I2\n",
      "x16 = 2*x15\n",
      "x17 = m2*r_j\n",
      "x18 = math.cos(theta2)\n",
      "x19 = r2*x18\n",
      "x20 = x13*x5\n",
      "x21 = I1*x2\n",
      "x22 = x20*x21\n",
      "x23 = x10*x20\n",
      "x24 = I1*x6\n",
      "x25 = 2*x12\n",
      "x26 = I2*x12\n",
      "x27 = 2*x6\n",
      "x28 = 2*x26\n",
      "x29 = 2*x18\n",
      "x30 = r2**3\n",
      "x31 = r_j*x30\n",
      "x32 = x21*x31\n",
      "x33 = r_j**3\n",
      "x34 = x10*x33\n",
      "x35 = 2*x19\n",
      "x36 = m2**3\n",
      "x37 = math.sin(theta2)\n",
      "x38 = x37**2\n",
      "x39 = x36*x38\n",
      "x40 = x2*x20\n",
      "x41 = x2*x31\n",
      "x42 = x30*x33\n",
      "x43 = x38*x40\n",
      "x44 = I1*tau\n",
      "x45 = I2*tau\n",
      "x46 = math.sin(theta1)\n",
      "x47 = tau*x12\n",
      "x48 = dtheta1**2\n",
      "x49 = x37*x48\n",
      "x50 = r2*x49\n",
      "x51 = x17*x50\n",
      "x52 = dtheta2**2\n",
      "x53 = x37*x52\n",
      "x54 = r2*x53\n",
      "x55 = x17*x54\n",
      "x56 = dtheta1*dtheta2\n",
      "x57 = x37*x56\n",
      "x58 = r2*x57\n",
      "x59 = x17*x58\n",
      "x60 = tau*x40\n",
      "x61 = r1**3\n",
      "x62 = x0*x17\n",
      "x63 = 2*x37*x56\n",
      "x64 = r2*x63\n",
      "x65 = math.sin(theta1 + theta2)\n",
      "x66 = g*r2\n",
      "x67 = x65*x66\n",
      "x68 = m1*r1\n",
      "x69 = x17*x68\n",
      "x70 = I2*x69\n",
      "x71 = r2**5\n",
      "x72 = r_j*x36\n",
      "x73 = x71*x72\n",
      "x74 = x36*x37*x52\n",
      "x75 = x10*x13\n",
      "x76 = x10*x31\n",
      "x77 = math.sin(theta1 - theta2)\n",
      "x78 = x66*x77\n",
      "x79 = 2*theta2\n",
      "x80 = 2*x76\n",
      "x81 = g*x41*x68\n",
      "x82 = (1/2)*g*math.sin(x79 + theta1)\n",
      "x83 = x5*x82\n",
      "x84 = math.sin(x79)\n",
      "x85 = x41*x49\n",
      "x86 = x41*x53\n",
      "x87 = 3*theta2\n",
      "x88 = (1/2)*x36\n",
      "x89 = r_j*x2\n",
      "x90 = x83*x89\n",
      "x91 = g*x46\n",
      "x92 = I2*x91\n",
      "x93 = 2*x17\n",
      "x94 = m2*x67\n",
      "x95 = (1/2)*x67\n",
      "x96 = x13*x2\n",
      "x97 = (1/2)*x78\n",
      "ddth1_num = (I1*I2*g*m1*r1*x46 + I1*I2*g*m2*r_j*x46 + I1*g*m1*m2*r1*x46*x5 + (1/2)*I1*g*r_j*x2*x46*x5 + I1*m2*r2*r_j*tau*x18 + (1/2)*I1*x13*x2*x48*x5*x84 + 2*I2*dtheta1*dtheta2*x13*x2*x5*x84 + I2*g*m1*m2*r1*x13*x46 + 2*I2*g*m1*m2*r1*x46*x5 + I2*g*m1*m2*r_j*x11*x46 + (3/2)*I2*g*r_j*x2*x46*x5 + I2*g*x2*x33*x46 + I2*g*x46*x61*x7 + 3*I2*m2*r2*r_j*tau*x18 + (3/2)*I2*x13*x2*x48*x5*x84 + I2*x13*x2*x5*x52*x84 + 2*dtheta1*dtheta2*x13*x3*x36*x84 + g*m1*r1*x0*x46 + g*m1*r1*x13*x2*x46*x5 + g*m1*r1*x2*x3*x46 + (1/2)*g*m1*r_j*x11*x2*x46*x5 + g*m2*r_j*x0*x46 + g*m2*x46*x5*x61*x7 + (1/2)*g*r_j*x3*x36*x46 + (1/2)*g*x13*x30*x36*math.sin(x87 + theta1) - g*x13*x30*x77*x88 + (1/2)*g*x33*x36*x46*x5 + m1*m2*r2*r_j*tau*x11*x18 + (1/2)*m1*x11*x13*x2*x48*x5*x84 + r2*tau*x18*x2*x33 + 3*r_j*tau*x18*x2*x30 - r_j*x10*x83 - r_j*x21*x83 - r_j*x71*x74 - tau*x0 - tau*x15 - tau*x4 - x12*x45 - x12*x85 - x12*x86 - x12*x90 + (3/2)*x13*x3*x36*x48*x84 + x13*x3*x36*x52*x84 - x14*x45 - x15*x51 - x15*x55 - x16*x59 - x25*x41*x57 - x26*x51 - x26*x55 - x27*x45 - x28*x59 - x3*x72*x82 - x32*x49 - x32*x53 - x32*x63 - x33*x36*x83 - x34*x50 - x34*x54 - x34*x64 - 3/2*x36*x42*x49 - x36*x42*x63 + (1/2)*x36*x48*x5*x84*x9 - x42*x48*x88*math.sin(x87) - x42*x74 - x44*x6 - x47*x6 - x49*x73 - x49*x80 - x50*x62 - x53*x80 - x54*x62 - 4*x57*x76 - x60*math.cos(x79) - 2*x60 - x62*x64 - x63*x73 - x65*x81 - x67*x70 - x67*x75 - x70*x78 - x75*x78 - x77*x81)/(I1*x0 + I1*x4 + I2*x1 + I2*x8 + x0*x12 + x0*x14 + x1*x6 + x10*x9 + x12*x16 - x12*x29*x41 + x12*x4 + x12*x40 + x12*x43 + x13*x3*x39 + x14*x16 + x14*x28 - x16*x17*x19 + x16*x6 - x17*x26*x35 + x22*x38 + x22 + x23*x38 + x23 + x24*x25 + x26*x27 - x29*x32 - x29*x39*x42 - x34*x35 + x39*x5*x9 + x6*x8)\n",
      "ddth2_num = (I1*x51 - I1*x94 + I2*x51 + I2*x55 + I2*x58*x93 + tau*x14 - tau*x19*x93 + tau*x6 + x12*x51 - x12*x94 - x17*x92 + x2*x33*x50 - x40*x48*x84 - 1/2*x40*x52*x84 - x40*x56*x84 + x41*x63 + x44 + x45 + x47 - 1/2*x5*x89*x91 - x6*x68*x91 - x68*x92 + x69*x95 + x69*x97 + x85 + x86 + x90 - x95*x96 + x96*x97)/(I2*x14 + x12*x6 + x15 + x24 + x26 + x43)\n"
     ]
    }
   ],
   "source": [
    "from sympy.codegen.ast import CodeBlock, Assignment\n",
    "\n",
    "ddth1_num, ddth2_num = symbols('ddth1_num, ddth2_num')\n",
    "\n",
    "codeblock = CodeBlock(\n",
    "    Assignment(ddth1_num, ddth1_sol),\n",
    "    Assignment(ddth2_num, ddth2_sol),\n",
    ").cse() #common subexpression elimination\n",
    "num_ops = count_ops(codeblock)\n",
    "code = pycode(codeblock)\n",
    "\n",
    "replace_dict = {\n",
    "    '\\dot': 'd',\n",
    "    '\\ddot': 'dd',\n",
    "    'θ_1': 'theta1',\n",
    "    'θ_2': 'theta2',\n",
    "}\n",
    "for item in replace_dict:\n",
    "    code = code.replace(item, replace_dict[item])\n",
    "\n",
    "print(f\"# {num_ops} operations\")\n",
    "print(code)"
   ]
  },
  {
   "cell_type": "code",
   "execution_count": 11,
   "metadata": {},
   "outputs": [
    {
     "data": {
      "text/latex": [
       "$\\displaystyle J = \\left[\\begin{matrix}- r_{1} \\cos{\\left(θ_{1} \\right)} & 0\\\\- r_{1} \\sin{\\left(θ_{1} \\right)} & 0\\\\r_{2} \\cos{\\left(θ_{1} + θ_{2} \\right)} & r_{2} \\cos{\\left(θ_{1} + θ_{2} \\right)}\\\\r_{2} \\sin{\\left(θ_{1} + θ_{2} \\right)} & r_{2} \\sin{\\left(θ_{1} + θ_{2} \\right)}\\end{matrix}\\right]$"
      ],
      "text/plain": [
       "Eq(J, Matrix([\n",
       "[     -r1*cos(θ_1),                 0],\n",
       "[     -r1*sin(θ_1),                 0],\n",
       "[r2*cos(θ_1 + θ_2), r2*cos(θ_1 + θ_2)],\n",
       "[r2*sin(θ_1 + θ_2), r2*sin(θ_1 + θ_2)]]))"
      ]
     },
     "metadata": {},
     "output_type": "display_data"
    },
    {
     "data": {
      "text/latex": [
       "$\\displaystyle q = \\left[\\begin{matrix}θ_{1}\\\\θ_{2}\\end{matrix}\\right]$"
      ],
      "text/plain": [
       "Eq(q, Matrix([\n",
       "[θ_1],\n",
       "[θ_2]]))"
      ]
     },
     "metadata": {},
     "output_type": "display_data"
    },
    {
     "data": {
      "text/latex": [
       "$\\displaystyle dq = \\left[\\begin{matrix}\\dot{θ_1}\\\\\\dot{θ_2}\\end{matrix}\\right]$"
      ],
      "text/plain": [
       "Eq(dq, Matrix([\n",
       "[\\dot{θ_1}],\n",
       "[\\dot{θ_2}]]))"
      ]
     },
     "metadata": {},
     "output_type": "display_data"
    },
    {
     "data": {
      "text/latex": [
       "$\\displaystyle v = \\left[\\begin{matrix}- \\dot{θ_1} r_{1} \\cos{\\left(θ_{1} \\right)}\\\\- \\dot{θ_1} r_{1} \\sin{\\left(θ_{1} \\right)}\\\\r_{2} \\left(\\dot{θ_1} + \\dot{θ_2}\\right) \\cos{\\left(θ_{1} + θ_{2} \\right)}\\\\r_{2} \\left(\\dot{θ_1} + \\dot{θ_2}\\right) \\sin{\\left(θ_{1} + θ_{2} \\right)}\\end{matrix}\\right]$"
      ],
      "text/plain": [
       "Eq(v, Matrix([\n",
       "[                   -\\dot{θ_1}*r1*cos(θ_1)],\n",
       "[                   -\\dot{θ_1}*r1*sin(θ_1)],\n",
       "[r2*(\\dot{θ_1} + \\dot{θ_2})*cos(θ_1 + θ_2)],\n",
       "[r2*(\\dot{θ_1} + \\dot{θ_2})*sin(θ_1 + θ_2)]]))"
      ]
     },
     "metadata": {},
     "output_type": "display_data"
    },
    {
     "data": {
      "text/latex": [
       "$\\displaystyle a = \\left[\\begin{matrix}r_{1} \\left(- \\ddot{θ_1} \\cos{\\left(θ_{1} \\right)} + \\dot{θ_1}^{2} \\sin{\\left(θ_{1} \\right)}\\right)\\\\- r_{1} \\left(\\ddot{θ_1} \\sin{\\left(θ_{1} \\right)} + \\dot{θ_1}^{2} \\cos{\\left(θ_{1} \\right)}\\right)\\\\r_{2} \\left(\\ddot{θ_1} \\cos{\\left(θ_{1} + θ_{2} \\right)} + \\ddot{θ_2} \\cos{\\left(θ_{1} + θ_{2} \\right)} - \\dot{θ_1} \\left(\\dot{θ_1} + \\dot{θ_2}\\right) \\sin{\\left(θ_{1} + θ_{2} \\right)} - \\dot{θ_2} \\left(\\dot{θ_1} + \\dot{θ_2}\\right) \\sin{\\left(θ_{1} + θ_{2} \\right)}\\right)\\\\r_{2} \\left(\\ddot{θ_1} \\sin{\\left(θ_{1} + θ_{2} \\right)} + \\ddot{θ_2} \\sin{\\left(θ_{1} + θ_{2} \\right)} + \\dot{θ_1} \\left(\\dot{θ_1} + \\dot{θ_2}\\right) \\cos{\\left(θ_{1} + θ_{2} \\right)} + \\dot{θ_2} \\left(\\dot{θ_1} + \\dot{θ_2}\\right) \\cos{\\left(θ_{1} + θ_{2} \\right)}\\right)\\end{matrix}\\right]$"
      ],
      "text/plain": [
       "Eq(a, Matrix([\n",
       "[                                                                                                               r1*(-\\ddot{θ_1}*cos(θ_1) + \\dot{θ_1}**2*sin(θ_1))],\n",
       "[                                                                                                               -r1*(\\ddot{θ_1}*sin(θ_1) + \\dot{θ_1}**2*cos(θ_1))],\n",
       "[r2*(\\ddot{θ_1}*cos(θ_1 + θ_2) + \\ddot{θ_2}*cos(θ_1 + θ_2) - \\dot{θ_1}*(\\dot{θ_1} + \\dot{θ_2})*sin(θ_1 + θ_2) - \\dot{θ_2}*(\\dot{θ_1} + \\dot{θ_2})*sin(θ_1 + θ_2))],\n",
       "[r2*(\\ddot{θ_1}*sin(θ_1 + θ_2) + \\ddot{θ_2}*sin(θ_1 + θ_2) + \\dot{θ_1}*(\\dot{θ_1} + \\dot{θ_2})*cos(θ_1 + θ_2) + \\dot{θ_2}*(\\dot{θ_1} + \\dot{θ_2})*cos(θ_1 + θ_2))]]))"
      ]
     },
     "metadata": {},
     "output_type": "display_data"
    }
   ],
   "source": [
    "J = Matrix([\n",
    "    [x1.diff(th1), x1.diff(th2)],\n",
    "    [y1.diff(th1), y1.diff(th2)],\n",
    "    [x2.diff(th2), x2.diff(th2)],\n",
    "    [y2.diff(th2), y2.diff(th2)],\n",
    "])\n",
    "q = Matrix([th1, th2])\n",
    "dq = q.diff(t)\n",
    "v = simplify(J*dq)\n",
    "a = simplify(J*dq.diff(t) + J.diff(t)*dq)\n",
    "\n",
    "display(\n",
    "    Eq(MatrixSymbol('J', 4, 2), clean(J)), \n",
    "    Eq(MatrixSymbol('q', 2, 1), clean(q)),\n",
    "    Eq(MatrixSymbol('dq', 2, 1), clean(dq)),\n",
    "    Eq(MatrixSymbol('v', 4, 1), clean(v)),\n",
    "    Eq(MatrixSymbol('a', 4, 1), clean(a))\n",
    ")"
   ]
  },
  {
   "cell_type": "code",
   "execution_count": 12,
   "metadata": {},
   "outputs": [
    {
     "name": "stdout",
     "output_type": "stream",
     "text": [
      "# 23 operations\n",
      "x0 = theta1 + theta2\n",
      "x1 = math.sin(x0)\n",
      "x2 = (dtheta1 + dtheta2)*math.cos(x0)\n",
      "a_1y = -r1*(ddtheta1*math.sin(theta1) + dtheta1**2*math.cos(theta1))\n",
      "a_2y = r2*(ddtheta1*x1 + ddtheta2*x1 + dtheta1*x2 + dtheta2*x2)\n"
     ]
    }
   ],
   "source": [
    "a_1y, a_2y = symbols('a_1y, a_2y')\n",
    "\n",
    "codeblock = CodeBlock(\n",
    "    Assignment(a_1y, clean(a[1])),\n",
    "    Assignment(a_2y, clean(a[3])),\n",
    ").cse() #common subexpression elimination\n",
    "num_ops = count_ops(codeblock)\n",
    "code = pycode(codeblock)\n",
    "\n",
    "for item in replace_dict:\n",
    "    code = code.replace(item, replace_dict[item])\n",
    "\n",
    "print(f\"# {num_ops} operations\")\n",
    "print(code)"
   ]
  }
 ],
 "metadata": {
  "kernelspec": {
   "display_name": "Python 3",
   "language": "python",
   "name": "python3"
  },
  "language_info": {
   "codemirror_mode": {
    "name": "ipython",
    "version": 3
   },
   "file_extension": ".py",
   "mimetype": "text/x-python",
   "name": "python",
   "nbconvert_exporter": "python",
   "pygments_lexer": "ipython3",
   "version": "3.11.4"
  }
 },
 "nbformat": 4,
 "nbformat_minor": 2
}
